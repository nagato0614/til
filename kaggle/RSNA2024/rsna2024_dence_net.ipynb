{
 "cells": [
  {
   "cell_type": "code",
   "metadata": {
    "ExecuteTime": {
     "end_time": "2024-06-29T13:44:06.339057Z",
     "start_time": "2024-06-29T13:44:04.611904Z"
    }
   },
   "source": [
    "import glob\n",
    "import re\n",
    "from concurrent.futures import ThreadPoolExecutor\n",
    "from glob import glob\n",
    "\n",
    "import cv2\n",
    "import numpy as np\n",
    "import pandas as pd\n",
    "import pydicom as dicom\n",
    "from keras import Model, Input\n",
    "from keras.src import backend\n",
    "from keras.src import layers\n",
    "from keras.src.applications import imagenet_utils\n",
    "from keras.src.layers import Dense\n",
    "from keras.src.models import Functional\n",
    "from keras.src.ops import operation_utils\n",
    "from keras.src.utils import file_utils\n",
    "import tensorflow as tf\n",
    "import matplotlib.pyplot as plt\n",
    "from keras.src.applications.densenet import DenseNet201\n",
    "from keras.src.callbacks import Callback\n",
    "import gc"
   ],
   "outputs": [
    {
     "name": "stderr",
     "output_type": "stream",
     "text": [
      "2024-06-29 22:44:05.141732: I tensorflow/core/platform/cpu_feature_guard.cc:210] This TensorFlow binary is optimized to use available CPU instructions in performance-critical operations.\n",
      "To enable the following instructions: AVX2 FMA, in other operations, rebuild TensorFlow with the appropriate compiler flags.\n",
      "2024-06-29 22:44:05.776973: W tensorflow/compiler/tf2tensorrt/utils/py_utils.cc:38] TF-TRT Warning: Could not find TensorRT\n"
     ]
    }
   ],
   "execution_count": 1
  },
  {
   "cell_type": "code",
   "metadata": {
    "ExecuteTime": {
     "end_time": "2024-06-29T13:44:06.385235Z",
     "start_time": "2024-06-29T13:44:06.340207Z"
    }
   },
   "source": [
    "base_path = '/home/toru/PycharmProjects/rsna-2024-lumbar-spine-degenerative-classification'\n",
    "train_png_file_path = f'{base_path}/train_dataset_png'\n",
    "\n",
    "label_coordinates_df = pd.read_csv(f'{base_path}/train_label_coordinates.csv')\n",
    "train_series = pd.read_csv(f'{base_path}/train_series_descriptions.csv')\n",
    "df_train = pd.read_csv(f'{base_path}/train.csv')\n",
    "df_sub = pd.read_csv(f'{base_path}/sample_submission.csv')\n",
    "test_series = pd.read_csv(f'{base_path}/test_series_descriptions.csv')\n",
    "\n",
    "train_dicom = f'{base_path}/train_images'\n",
    "test_dicom = f'{base_path}/test_images'\n",
    "\n",
    "model_path = f'model.keras'"
   ],
   "outputs": [],
   "execution_count": 2
  },
  {
   "cell_type": "code",
   "metadata": {
    "ExecuteTime": {
     "end_time": "2024-06-29T13:44:06.753767Z",
     "start_time": "2024-06-29T13:44:06.386438Z"
    }
   },
   "source": [
    "# 一つのstudy_idにseries_id が3つ未満のstudy_idを探す\n",
    "study_id_list = train_series['study_id'].unique()\n",
    "for study_id in study_id_list:\n",
    "    series_id_list = train_series[train_series['study_id'] == study_id][\n",
    "        'series_description'].unique()\n",
    "\n",
    "    if len(series_id_list) < 3:\n",
    "        print(f'study_id : {study_id}, series_id : {series_id_list}')"
   ],
   "outputs": [
    {
     "name": "stdout",
     "output_type": "stream",
     "text": [
      "study_id : 2492114990, series_id : ['Axial T2' 'Sagittal T2/STIR']\n",
      "study_id : 2780132468, series_id : ['Sagittal T2/STIR' 'Axial T2']\n",
      "study_id : 3008676218, series_id : ['Sagittal T1' 'Axial T2']\n"
     ]
    }
   ],
   "execution_count": 3
  },
  {
   "cell_type": "code",
   "metadata": {
    "ExecuteTime": {
     "end_time": "2024-06-29T13:44:06.759058Z",
     "start_time": "2024-06-29T13:44:06.755233Z"
    }
   },
   "source": [
    "# パラメータ\n",
    "STUDY_NUM = 1975\n",
    "\n",
    "# 出力のラベル\n",
    "NORMAL_MILD = 0\n",
    "MODERATE = 1\n",
    "SEVERE = 2\n",
    "\n",
    "# 重症度一覧\n",
    "SEVERITY_LIST = ['Normal/Mild', 'Moderate', 'Severe']\n",
    "\n",
    "# dicomデータの種類\n",
    "SERIES_DESCRIPTION_LIST = train_series['series_description'].unique().tolist()\n",
    "# 学習用パラメータ\n",
    "BATCH_SIZE = 16\n",
    "EPOCHS = 200\n",
    "TRAIN_RATIO = 0.8\n",
    "VALID_RATIO = 0.1\n",
    "TEST_RATIO = 0.1\n",
    "\n",
    "# 入出力の形状 (DenseNet201の入力サイズ)\n",
    "INPUT_WIDTH = 224\n",
    "INPUT_HEIGHT = 224\n",
    "INPUT_CHANNEL_DICT = {\n",
    "    'Sagittal T1': 17,\n",
    "    'Sagittal T2/STIR': 17,\n",
    "    'Axial T2': 29\n",
    "}\n",
    "IN_CHANS = sum(INPUT_CHANNEL_DICT.values())\n",
    "IMG_SIZE = [INPUT_WIDTH, INPUT_HEIGHT]\n",
    "\n",
    "CONDITIONS = [\n",
    "    'spinal_canal_stenosis',\n",
    "    'left_neural_foraminal_narrowing',\n",
    "    'right_neural_foraminal_narrowing',\n",
    "    'left_subarticular_stenosis',\n",
    "    'right_subarticular_stenosis'\n",
    "]\n",
    "\n",
    "LEVELS = [\n",
    "    'l1_l2',\n",
    "    'l2_l3',\n",
    "    'l3_l4',\n",
    "    'l4_l5',\n",
    "    'l5_s1',\n",
    "]\n",
    "\n",
    "N_LABELS = 25\n",
    "N_CLASSES = 3 * N_LABELS\n",
    "\n",
    "data_filenames = ['train_data', 'valid_data', 'test_data']# パラメータ\n",
    "STUDY_NUM = 1975\n",
    "\n",
    "# 出力のラベル\n",
    "NORMAL_MILD = 0\n",
    "MODERATE = 1\n",
    "SEVERE = 2\n",
    "\n",
    "# 重症度一覧\n",
    "SEVERITY_LIST = ['Normal/Mild', 'Moderate', 'Severe']\n",
    "\n",
    "# dicomデータの種類\n",
    "SERIES_DESCRIPTION_LIST = train_series['series_description'].unique().tolist()\n",
    "# 学習用パラメータ\n",
    "BATCH_SIZE = 16\n",
    "EPOCHS = 200\n",
    "TRAIN_RATIO = 0.8\n",
    "VALID_RATIO = 0.1\n",
    "TEST_RATIO = 0.1\n",
    "\n",
    "# 入出力の形状 (DenseNet201の入力サイズ)\n",
    "INPUT_WIDTH = 224\n",
    "INPUT_HEIGHT = 224\n",
    "INPUT_CHANNEL_DICT = {\n",
    "    'Sagittal T1': 17,\n",
    "    'Sagittal T2/STIR': 17,\n",
    "    'Axial T2': 29\n",
    "}\n",
    "IN_CHANS = sum(INPUT_CHANNEL_DICT.values())\n",
    "IMG_SIZE = [INPUT_WIDTH, INPUT_HEIGHT]\n",
    "\n",
    "CONDITIONS = [\n",
    "    'spinal_canal_stenosis',\n",
    "    'left_neural_foraminal_narrowing',\n",
    "    'right_neural_foraminal_narrowing',\n",
    "    'left_subarticular_stenosis',\n",
    "    'right_subarticular_stenosis'\n",
    "]\n",
    "\n",
    "LEVELS = [\n",
    "    'l1_l2',\n",
    "    'l2_l3',\n",
    "    'l3_l4',\n",
    "    'l4_l5',\n",
    "    'l5_s1',\n",
    "]\n",
    "\n",
    "N_LABELS = 25\n",
    "N_CLASSES = 3 * N_LABELS\n",
    "\n",
    "data_filenames = ['train_data', 'valid_data', 'test_data']"
   ],
   "outputs": [],
   "execution_count": 4
  },
  {
   "cell_type": "code",
   "metadata": {
    "ExecuteTime": {
     "end_time": "2024-06-29T13:44:06.768260Z",
     "start_time": "2024-06-29T13:44:06.759765Z"
    }
   },
   "source": [
    "_target_name = \"right_subarticular_stenosis_l5_s1\"\n",
    "\n",
    "print(f'train shape : {df_train.shape}')\n",
    "print(df_train[_target_name].unique())\n",
    "\n",
    "# それぞれの重症度の数がいくらあるか計算\n",
    "print(f'Normal/Mild : {df_train[df_train[_target_name] == str(\"Normal/Mild\")].shape[0]}')\n",
    "print(f'Moderate : {df_train[df_train[_target_name] == str(\"Moderate\")].shape[0]}')\n",
    "print(f'Severe : {df_train[df_train[_target_name] == str(\"Severe\")].shape[0]}')\n",
    "\n",
    "print(\n",
    "    f'Normal/Mild ratio : {df_train[df_train[_target_name] == str(\"Normal/Mild\")].shape[0] / df_train.shape[0]}')\n",
    "print(\n",
    "    f'Moderate ratio : {df_train[df_train[_target_name] == str(\"Moderate\")].shape[0] / df_train.shape[0]}')\n",
    "print(\n",
    "    f'Severe ratio : {df_train[df_train[_target_name] == str(\"Severe\")].shape[0] / df_train.shape[0]}')\n"
   ],
   "outputs": [
    {
     "name": "stdout",
     "output_type": "stream",
     "text": [
      "train shape : (1975, 26)\n",
      "['Normal/Mild' 'Moderate' 'Severe' nan]\n",
      "Normal/Mild : 1399\n",
      "Moderate : 396\n",
      "Severe : 173\n",
      "Normal/Mild ratio : 0.7083544303797469\n",
      "Moderate ratio : 0.20050632911392405\n",
      "Severe ratio : 0.08759493670886076\n"
     ]
    }
   ],
   "execution_count": 5
  },
  {
   "cell_type": "code",
   "metadata": {
    "ExecuteTime": {
     "end_time": "2024-06-29T13:58:55.878517Z",
     "start_time": "2024-06-29T13:58:55.846401Z"
    }
   },
   "source": [
    "\n",
    "\n",
    "def atoi(text):\n",
    "    return int(text) if text.isdigit() else text\n",
    "\n",
    "\n",
    "def natural_keys(text):\n",
    "    return [atoi(c) for c in re.split(r'(\\d+)', text)]\n",
    "\n",
    "\n",
    "def get_train_label(study_id):\n",
    "    \"\"\"\n",
    "    study_id に対応するラベルを取得 (testはデータがないのでtrainのみ)\n",
    "    \"\"\"\n",
    "\n",
    "    row = df_train[df_train['study_id'] == study_id].to_numpy()[0][1:].tolist()\n",
    "\n",
    "    row_category = np.zeros((N_LABELS, 3))\n",
    "    for i in range(N_LABELS):\n",
    "        if row[i] == 'Normal/Mild':\n",
    "            row_category[i][0] = 1\n",
    "        elif row[i] == 'Moderate':\n",
    "            row_category[i][1] = 1\n",
    "        elif row[i] == 'Severe':\n",
    "            row_category[i][2] = 1\n",
    "    # 1次元配列に変換\n",
    "    row_category = row_category.flatten()\n",
    "    return row_category\n",
    "\n",
    "\n",
    "def get_file_list(study_id, series_desc, file_kind='train'):\n",
    "    \"\"\"\n",
    "    study_id に対応するファイルリストを取得\n",
    "    \"\"\"\n",
    "    dicom_file_list = []\n",
    "    df = None\n",
    "    if file_kind == 'train':\n",
    "        df = train_series\n",
    "    elif file_kind == 'test':\n",
    "        df = test_series\n",
    "\n",
    "    # study_id に対応する series_desc のリストを取得\n",
    "    series_ids = df[df['study_id'] == study_id]\n",
    "    series_id = series_ids[series_ids['series_description'] == series_desc]['series_id'].values\n",
    "    if len(series_id) == 0:\n",
    "        return dicom_file_list\n",
    "\n",
    "    series_id = series_id[0]\n",
    "\n",
    "    target_dicom_dir_path = ''\n",
    "    if file_kind == 'train':\n",
    "        target_dicom_dir_path = f'{train_dicom}/{study_id}/{series_id}/'\n",
    "    elif file_kind == 'test':\n",
    "        target_dicom_dir_path = f'{test_dicom}/{study_id}/{series_id}/'\n",
    "    dicom_file_list = glob(target_dicom_dir_path + '/*.dcm')\n",
    "    # ファイル名が数字になっているのでソート\n",
    "    dicom_file_list = sorted(dicom_file_list, key=natural_keys)\n",
    "\n",
    "    # series_desc にt対応するファイルリストを取得\n",
    "    return dicom_file_list\n",
    "\n",
    "\n",
    "def load_dicom_img(dicom_filepath):\n",
    "    \"\"\"\n",
    "    dicomファイルを読み込む\n",
    "    \"\"\"\n",
    "    dicom_data = dicom.read_file(dicom_filepath).pixel_array\n",
    "\n",
    "    # 0-1に正規化\n",
    "    dicom_data = dicom_data / np.max(dicom_data)\n",
    "\n",
    "    # 0~255に変換\n",
    "    dicom_data = dicom_data * 255\n",
    "\n",
    "    # 512x512にリサイズ\n",
    "    dicom_data = cv2.resize(dicom_data, (INPUT_WIDTH, INPUT_HEIGHT))\n",
    "\n",
    "    # uint8 に変換\n",
    "    dicom_data = dicom_data.astype(np.uint8)\n",
    "\n",
    "    return dicom_data\n",
    "\n",
    "\n",
    "def get_dicom_input_data(study_id, file_kind='train'):\n",
    "    \"\"\"\n",
    "    study_id に対応するdicomデータを取得\n",
    "    \"\"\"\n",
    "\n",
    "    input_dicom = np.zeros((INPUT_WIDTH, INPUT_HEIGHT, IN_CHANS))\n",
    "    # Sagittal T1\n",
    "    sagittal_t1_dicom_list = get_file_list(study_id, 'Sagittal T1', file_kind)\n",
    "    if len(sagittal_t1_dicom_list) > 0:\n",
    "        for i in range(INPUT_CHANNEL_DICT['Sagittal T1']):\n",
    "            if i < len(sagittal_t1_dicom_list):\n",
    "                dicom_data = load_dicom_img(sagittal_t1_dicom_list[i])\n",
    "                input_dicom[:, :, i] = dicom_data\n",
    "\n",
    "    # Sagittal T2/STIR\n",
    "    sagittal_t2_dicom_list = get_file_list(study_id, 'Sagittal T2/STIR', file_kind)\n",
    "    if len(sagittal_t2_dicom_list) > 0:\n",
    "        for i in range(INPUT_CHANNEL_DICT['Sagittal T2/STIR']):\n",
    "            if i < len(sagittal_t2_dicom_list):\n",
    "                dicom_data = load_dicom_img(sagittal_t2_dicom_list[i])\n",
    "                input_dicom[:, :, i + INPUT_CHANNEL_DICT['Sagittal T1']] = dicom_data\n",
    "\n",
    "    # Axial T2\n",
    "    axial_t2_dicom_list = get_file_list(study_id, 'Axial T2', file_kind)\n",
    "    if len(axial_t2_dicom_list) > 0:\n",
    "        for i in range(INPUT_CHANNEL_DICT['Axial T2']):\n",
    "            if i < len(axial_t2_dicom_list):\n",
    "                dicom_data = load_dicom_img(axial_t2_dicom_list[i])\n",
    "                input_dicom[:, :, i + INPUT_CHANNEL_DICT['Sagittal T1'] + INPUT_CHANNEL_DICT[\n",
    "                    'Sagittal T2/STIR']] = dicom_data\n",
    "\n",
    "    # uint8 に変換\n",
    "    input_dicom = input_dicom.astype(np.int8)\n",
    "    return input_dicom\n",
    "\n",
    "\n",
    "def get_dicom_and_label(study_id, file_kind):\n",
    "    x_data = get_dicom_input_data(study_id, file_kind)\n",
    "    y_data = get_train_label(study_id)\n",
    "    return x_data, y_data\n",
    "\n",
    "\n",
    "def generator(batch_size, study_ids, file_kind='train', is_augmentation=False, is_shuffle=False):\n",
    "    \"\"\"\n",
    "    データセットの読み込み関数\n",
    "    \"\"\"\n",
    "    while True:\n",
    "        if is_shuffle:\n",
    "            np.random.shuffle(study_ids)\n",
    "\n",
    "        for start in range(0, len(study_ids), batch_size):\n",
    "            gc.collect()\n",
    "\n",
    "            x_batch = []\n",
    "            y_batch = []\n",
    "            end = min(start + batch_size, len(study_ids))\n",
    "            ids_train_batch = study_ids[start:end]\n",
    "\n",
    "            with ThreadPoolExecutor() as executor:\n",
    "                results = list(\n",
    "                    executor.map(lambda sid: get_dicom_and_label(sid, file_kind), ids_train_batch))\n",
    "\n",
    "            for x_data, y_data in results:\n",
    "                if is_augmentation:\n",
    "                    # 画像データにノイズを加える\n",
    "                    x_data = x_data + np.random.normal(0, 0.1, x_data.shape)\n",
    "\n",
    "                x_batch.append(x_data)\n",
    "                y_batch.append(y_data)\n",
    "\n",
    "            yield np.array(x_batch), np.array(y_batch)\n",
    "\n",
    "\n",
    "def generator_load_all(batch_size, study_ids, file_kind='train', is_augmentation=False, is_shuffle=False):\n",
    "    \"\"\"\n",
    "    実行時予めすべてのデータを読み込んだ上でデータを返す\n",
    "    \"\"\"\n",
    "    x_batch = []\n",
    "    y_batch = []\n",
    "    print(f'事前にすべてのデータを読み込みます')\n",
    "\n",
    "    with ThreadPoolExecutor() as executor:\n",
    "        results = list(\n",
    "            executor.map(lambda sid: get_dicom_and_label(sid, file_kind), study_ids))\n",
    "\n",
    "    for x_data, y_data in results:\n",
    "        x_batch.append(x_data)\n",
    "        y_batch.append(y_data)\n",
    "\n",
    "    print(f'データの読み込みが完了しました')\n",
    "    # データをバッチサイズに分割して返す\n",
    "    while True:\n",
    "        for start in range(0, len(x_batch), batch_size):\n",
    "            end = min(start + batch_size, len(study_ids))\n",
    "\n",
    "            x_batch_batch = x_batch[start:end]\n",
    "            y_batch_batch = y_batch[start:end]\n",
    "\n",
    "            if is_augmentation:\n",
    "                for i in range(len(x_batch_batch)):\n",
    "                    # ノイズを加える\n",
    "                    x_batch_batch[i] = x_batch_batch[i] + np.random.normal(0, 0.1, x_batch_batch[i].shape)\n",
    "\n",
    "            yield np.array(x_batch_batch), np.array(y_batch_batch)\n",
    "\n",
    "\n",
    "def generate_and_save_data(study_ids, file_name, file_kind='train'):\n",
    "    \"\"\"\n",
    "    学習用データを生成して保存\n",
    "    \"\"\"\n",
    "    x_batch = []\n",
    "    y_batch = []\n",
    "    for sid in study_ids:\n",
    "        print(f'残りのデータ数 : {len(study_ids) - len(x_batch)}')\n",
    "        x_data, y_data = get_dicom_and_label(sid, file_kind)\n",
    "        x_batch.append(x_data)\n",
    "        y_batch.append(y_data)\n",
    "\n",
    "    x_batch = np.array(x_batch)\n",
    "    y_batch = np.array(y_batch)\n",
    "\n",
    "    print(f'x_batch shape : {x_batch.shape}')\n",
    "    print(f'y_batch shape : {y_batch.shape}')\n",
    "\n",
    "    np.save(f'{file_name}_x.npy', x_batch)\n",
    "    np.save(f'{file_name}_y.npy', y_batch)\n",
    "\n",
    "    # メモリ解放\n",
    "    del x_batch\n",
    "    del y_batch\n",
    "    gc.collect()\n",
    "\n",
    "\n",
    "def save_train_data():\n",
    "    \"\"\"\n",
    "    学習用データを保存\n",
    "    \"\"\"\n",
    "    train_study_ids = get_train_study_id_array()\n",
    "    generate_and_save_data(train_study_ids, file_name='train_data', file_kind='train')\n",
    "\n",
    "\n",
    "def save_valid_data():\n",
    "    \"\"\"\n",
    "    検証用データを保存\n",
    "    \"\"\"\n",
    "    valid_study_ids = get_valid_study_id_array()\n",
    "    generate_and_save_data(valid_study_ids, file_name='valid_data', file_kind='train')\n",
    "\n",
    "\n",
    "def save_test_data():\n",
    "    \"\"\"\n",
    "    テスト用データを保存\n",
    "    \"\"\"\n",
    "    test_study_ids = get_test_study_id_array()\n",
    "    generate_and_save_data(test_study_ids, file_name='test_data', file_kind='train')\n",
    "\n",
    "\n",
    "# 学習用データの study_id を取得\n",
    "def get_train_study_id_array():\n",
    "    _study_ids = train_series['study_id'].unique()\n",
    "\n",
    "    # 0.8 で分割\n",
    "    train_study_ids = _study_ids[:int(len(_study_ids) * 0.8)]\n",
    "    return train_study_ids\n",
    "\n",
    "\n",
    "# 検証用データの study_id を取得\n",
    "def get_valid_study_id_array():\n",
    "    _study_ids = train_series['study_id'].unique()\n",
    "\n",
    "    # 0.8 で分割\n",
    "    valid_study_ids = _study_ids[int(len(_study_ids) * 0.8):int(len(_study_ids) * 0.9)]\n",
    "    return valid_study_ids\n",
    "\n",
    "\n",
    "# テスト用データの study_id を取得 (実際のテストデータではなく, 学習データの一部をテストデータとして使用)\n",
    "def get_test_study_id_array():\n",
    "    _study_ids = train_series['study_id'].unique()\n",
    "    # 0.8 で分割\n",
    "    test_study_ids = _study_ids[int(len(_study_ids) * 0.9):]\n",
    "    return test_study_ids\n",
    "\n",
    "\n",
    "def generator_for_test(batch_size, study_ids):\n",
    "    \"\"\"\n",
    "    test_seriesからテスト用のデータセット作成\n",
    "    kaggle で提出時に呼び出される\n",
    "    :param batch_size: \n",
    "    :param study_ids: \n",
    "    :return: \n",
    "    \"\"\"\n",
    "    for start in range(0, len(study_ids), batch_size):\n",
    "        x_batch = []\n",
    "        end = min(start + batch_size, len(study_ids))\n",
    "        ids_train_batch = study_ids[start:end]\n",
    "\n",
    "        results = []\n",
    "        for sid in ids_train_batch:\n",
    "            results.append(get_dicom_input_data(sid, 'train'))\n",
    "        for x_data in results:\n",
    "            x_batch.append(x_data)\n",
    "\n",
    "        yield np.array(x_batch), ids_train_batch\n",
    "\n",
    "\n",
    "def generate_and_save_data(study_ids, file_name, file_kind='train'):\n",
    "    \"\"\"\n",
    "    学習用データを生成して保存\n",
    "    \"\"\"\n",
    "    x_batch = []\n",
    "    y_batch = []\n",
    "    for sid in study_ids:\n",
    "        print(f'残りのデータ数 : {len(study_ids) - len(x_batch)}')\n",
    "        x_data, y_data = get_dicom_and_label(sid, file_kind)\n",
    "        x_batch.append(x_data)\n",
    "        y_batch.append(y_data)\n",
    "\n",
    "    x_batch = np.array(x_batch)\n",
    "    y_batch = np.array(y_batch)\n",
    "\n",
    "    print(f'x_batch shape : {x_batch.shape}')\n",
    "    print(f'y_batch shape : {y_batch.shape}')\n",
    "\n",
    "    np.save(f'{file_name}_x.npy', x_batch)\n",
    "    np.save(f'{file_name}_y.npy', y_batch)\n",
    "\n",
    "    # メモリ解放\n",
    "    del x_batch\n",
    "    del y_batch\n",
    "    gc.collect()\n",
    "\n",
    "\n",
    "def load_data(file_name):\n",
    "    \"\"\"\n",
    "    データを読み込む\n",
    "    \"\"\"\n",
    "    x_data = np.load(f'{file_name}_x.npy')\n",
    "    y_data = np.load(f'{file_name}_y.npy')\n",
    "\n",
    "    return x_data, y_data\n",
    "\n",
    "\n",
    "def generator_with_load_data(batch_size,\n",
    "                             study_ids,\n",
    "                             file_name,\n",
    "                             file_kind='train',\n",
    "                             is_augmentation=False,\n",
    "                             is_shuffle=False,\n",
    "                             is_only_one_epoch=False):\n",
    "    \"\"\"\n",
    "    事前にデータを読み込んでデータを返す\n",
    "    \"\"\"\n",
    "    x_batch, y_batch = load_data(file_name)\n",
    "\n",
    "    def shuffle_data_and_labels(x_batch, y_batch):\n",
    "        # データとラベルをペアにしたリストを作成\n",
    "        data_label_pairs = list(zip(x_batch, y_batch))\n",
    "\n",
    "        # ペアのリストをシャッフル\n",
    "        np.random.shuffle(data_label_pairs)\n",
    "\n",
    "        # シャッフル後のデータとラベルをそれぞれ別々の配列に戻す\n",
    "        shuffled_x_batch, shuffled_y_batch = zip(*data_label_pairs)\n",
    "\n",
    "        # NumPy 配列に変換して返す（オプション）\n",
    "        shuffled_x_batch = np.array(shuffled_x_batch)\n",
    "        shuffled_y_batch = np.array(shuffled_y_batch)\n",
    "\n",
    "        return shuffled_x_batch, shuffled_y_batch\n",
    "\n",
    "    while True:\n",
    "        # epochごとにシャッフル\n",
    "        if is_shuffle:\n",
    "            x_batch, y_batch = shuffle_data_and_labels(x_batch, y_batch)\n",
    "\n",
    "        for start in range(0, len(x_batch), batch_size):\n",
    "            end = min(start + batch_size, len(study_ids))\n",
    "\n",
    "            x_batch_batch = x_batch[start:end]\n",
    "            y_batch_batch = y_batch[start:end]\n",
    "\n",
    "            if is_augmentation:\n",
    "                for i in range(len(x_batch_batch)):\n",
    "                    # ノイズを加える\n",
    "                    x_batch_batch[i] = x_batch_batch[i] + np.random.normal(0, 0.1, x_batch_batch[i].shape)\n",
    "\n",
    "                    # ブラーをかける\n",
    "                    x_batch_batch[i] = cv2.GaussianBlur(x_batch_batch[i], (5, 5), 0)\n",
    "\n",
    "            yield np.array(x_batch_batch), np.array(y_batch_batch)\n",
    "\n",
    "        if is_only_one_epoch:\n",
    "            break"
   ],
   "outputs": [],
   "execution_count": 28
  },
  {
   "cell_type": "code",
   "metadata": {
    "ExecuteTime": {
     "end_time": "2024-06-29T13:44:06.795567Z",
     "start_time": "2024-06-29T13:44:06.790836Z"
    }
   },
   "source": [
    "# 2492114990\n",
    "for desc in SERIES_DESCRIPTION_LIST:\n",
    "    dicom_image_list = get_file_list(2492114990, desc)\n",
    "    print(f'{desc} : {len(dicom_image_list)}')"
   ],
   "outputs": [
    {
     "name": "stdout",
     "output_type": "stream",
     "text": [
      "Sagittal T2/STIR : 18\n",
      "Sagittal T1 : 0\n",
      "Axial T2 : 53\n"
     ]
    }
   ],
   "execution_count": 7
  },
  {
   "cell_type": "code",
   "metadata": {
    "ExecuteTime": {
     "end_time": "2024-06-29T13:44:06.798556Z",
     "start_time": "2024-06-29T13:44:06.796190Z"
    }
   },
   "source": [
    "# study_id のリストを作成\n",
    "train_study_ids = get_train_study_id_array()\n",
    "print(len(train_study_ids))\n",
    "valid_study_ids = get_valid_study_id_array()\n",
    "print(len(valid_study_ids))\n",
    "test_study_ids = get_test_study_id_array()\n",
    "print(len(test_study_ids))"
   ],
   "outputs": [
    {
     "name": "stdout",
     "output_type": "stream",
     "text": [
      "1580\n",
      "197\n",
      "198\n"
     ]
    }
   ],
   "execution_count": 8
  },
  {
   "cell_type": "code",
   "metadata": {
    "ExecuteTime": {
     "end_time": "2024-06-29T13:44:06.803564Z",
     "start_time": "2024-06-29T13:44:06.799141Z"
    }
   },
   "source": [
    "get_train_label(4003253)"
   ],
   "outputs": [
    {
     "data": {
      "text/plain": [
       "array([1., 0., 0., 1., 0., 0., 1., 0., 0., 1., 0., 0., 1., 0., 0., 1., 0.,\n",
       "       0., 1., 0., 0., 1., 0., 0., 0., 1., 0., 1., 0., 0., 1., 0., 0., 1.,\n",
       "       0., 0., 0., 1., 0., 0., 1., 0., 1., 0., 0., 1., 0., 0., 1., 0., 0.,\n",
       "       1., 0., 0., 0., 1., 0., 1., 0., 0., 1., 0., 0., 1., 0., 0., 1., 0.,\n",
       "       0., 1., 0., 0., 1., 0., 0.])"
      ]
     },
     "execution_count": 9,
     "metadata": {},
     "output_type": "execute_result"
    }
   ],
   "execution_count": 9
  },
  {
   "cell_type": "code",
   "metadata": {
    "ExecuteTime": {
     "end_time": "2024-06-29T13:44:07.348775Z",
     "start_time": "2024-06-29T13:44:06.804882Z"
    }
   },
   "source": [
    "dicom_image_list = get_file_list(4003253, 'Sagittal T1')\n",
    "\n",
    "input_image = get_dicom_input_data(4003253)\n",
    "plt.imshow(input_image[:, :, 0], cmap='gray')\n",
    "input_data_gb = input_image.nbytes / 1024 / 1024 / 1024\n",
    "print(f\"画像サイズ[GB] : {input_data_gb}\")\n",
    "print(f'データセット全体のデータ数は {input_data_gb * STUDY_NUM}')"
   ],
   "outputs": [
    {
     "name": "stdout",
     "output_type": "stream",
     "text": [
      "画像サイズ[GB] : 0.0029439926147460938\n",
      "データセット全体のデータ数は 5.814385414123535\n"
     ]
    },
    {
     "data": {
      "text/plain": [
       "<Figure size 640x480 with 1 Axes>"
      ],
      "image/png": "[encoded data removed]"
     },
     "metadata": {},
     "output_type": "display_data"
    }
   ],
   "execution_count": 10
  },
  {
   "cell_type": "code",
   "metadata": {
    "ExecuteTime": {
     "end_time": "2024-06-29T13:44:09.367506Z",
     "start_time": "2024-06-29T13:44:07.349481Z"
    }
   },
   "source": [
    "\n",
    "\n",
    "\n",
    "def total_acc(y_true, y_pred):\n",
    "    pred = tf.dtypes.cast(tf.math.greater(y_pred, 0.5), tf.float64)\n",
    "    flag = tf.dtypes.cast(tf.math.equal(y_true, pred), tf.float64)\n",
    "    return tf.reduce_prod(flag, axis=-1)\n",
    "\n",
    "\n",
    "def binary_acc(y_true, y_pred):\n",
    "    pred = tf.dtypes.cast(tf.math.greater(y_pred, 0.5), tf.float64)\n",
    "    flag = tf.dtypes.cast(tf.math.equal(y_true, pred), tf.float64)\n",
    "    return tf.reduce_mean(flag, axis=-1)\n",
    "\n",
    "\n",
    "def create_model():\n",
    "    # カスタム入力層\n",
    "    input_shape = (INPUT_WIDTH, INPUT_HEIGHT, IN_CHANS)\n",
    "    inputs = Input(shape=input_shape)\n",
    "\n",
    "    # channel を 3 に変換\n",
    "    x = layers.Conv2D(3, (1, 1), padding='same')(inputs)\n",
    "\n",
    "    # DenseNet201ベースモデル（トップ層なし）\n",
    "    base_model = DenseNet201(\n",
    "        include_top=True,\n",
    "        weights=None,\n",
    "        input_tensor=x,\n",
    "        input_shape=(INPUT_WIDTH, INPUT_HEIGHT, 3),\n",
    "        pooling=None,\n",
    "        classes=75,\n",
    "        classifier_activation='sigmoid'\n",
    "    )\n",
    "\n",
    "    # モデルの作成\n",
    "    model = Model(inputs=inputs, outputs=base_model.output)\n",
    "\n",
    "    # モデルのコンパイル\n",
    "    model.compile(optimizer='adam',\n",
    "                  loss=\"binary_crossentropy\",\n",
    "                  metrics=[binary_acc, total_acc])\n",
    "\n",
    "    return model\n",
    "\n",
    "\n",
    "model = create_model()"
   ],
   "outputs": [
    {
     "name": "stderr",
     "output_type": "stream",
     "text": [
      "2024-06-29 22:44:07.414310: I external/local_xla/xla/stream_executor/cuda/cuda_executor.cc:998] successful NUMA node read from SysFS had negative value (-1), but there must be at least one NUMA node, so returning NUMA node zero. See more at https://github.com/torvalds/linux/blob/v6.0/Documentation/ABI/testing/sysfs-bus-pci#L344-L355\n",
      "2024-06-29 22:44:07.464189: I external/local_xla/xla/stream_executor/cuda/cuda_executor.cc:998] successful NUMA node read from SysFS had negative value (-1), but there must be at least one NUMA node, so returning NUMA node zero. See more at https://github.com/torvalds/linux/blob/v6.0/Documentation/ABI/testing/sysfs-bus-pci#L344-L355\n",
      "2024-06-29 22:44:07.465935: I external/local_xla/xla/stream_executor/cuda/cuda_executor.cc:998] successful NUMA node read from SysFS had negative value (-1), but there must be at least one NUMA node, so returning NUMA node zero. See more at https://github.com/torvalds/linux/blob/v6.0/Documentation/ABI/testing/sysfs-bus-pci#L344-L355\n",
      "2024-06-29 22:44:07.469265: I external/local_xla/xla/stream_executor/cuda/cuda_executor.cc:998] successful NUMA node read from SysFS had negative value (-1), but there must be at least one NUMA node, so returning NUMA node zero. See more at https://github.com/torvalds/linux/blob/v6.0/Documentation/ABI/testing/sysfs-bus-pci#L344-L355\n",
      "2024-06-29 22:44:07.470887: I external/local_xla/xla/stream_executor/cuda/cuda_executor.cc:998] successful NUMA node read from SysFS had negative value (-1), but there must be at least one NUMA node, so returning NUMA node zero. See more at https://github.com/torvalds/linux/blob/v6.0/Documentation/ABI/testing/sysfs-bus-pci#L344-L355\n",
      "2024-06-29 22:44:07.472450: I external/local_xla/xla/stream_executor/cuda/cuda_executor.cc:998] successful NUMA node read from SysFS had negative value (-1), but there must be at least one NUMA node, so returning NUMA node zero. See more at https://github.com/torvalds/linux/blob/v6.0/Documentation/ABI/testing/sysfs-bus-pci#L344-L355\n",
      "2024-06-29 22:44:07.614591: I external/local_xla/xla/stream_executor/cuda/cuda_executor.cc:998] successful NUMA node read from SysFS had negative value (-1), but there must be at least one NUMA node, so returning NUMA node zero. See more at https://github.com/torvalds/linux/blob/v6.0/Documentation/ABI/testing/sysfs-bus-pci#L344-L355\n",
      "2024-06-29 22:44:07.615799: I external/local_xla/xla/stream_executor/cuda/cuda_executor.cc:998] successful NUMA node read from SysFS had negative value (-1), but there must be at least one NUMA node, so returning NUMA node zero. See more at https://github.com/torvalds/linux/blob/v6.0/Documentation/ABI/testing/sysfs-bus-pci#L344-L355\n",
      "2024-06-29 22:44:07.616922: I external/local_xla/xla/stream_executor/cuda/cuda_executor.cc:998] successful NUMA node read from SysFS had negative value (-1), but there must be at least one NUMA node, so returning NUMA node zero. See more at https://github.com/torvalds/linux/blob/v6.0/Documentation/ABI/testing/sysfs-bus-pci#L344-L355\n",
      "2024-06-29 22:44:07.618182: I tensorflow/core/common_runtime/gpu/gpu_device.cc:1928] Created device /job:localhost/replica:0/task:0/device:GPU:0 with 6028 MB memory:  -> device: 0, name: NVIDIA GeForce RTX 2070 SUPER, pci bus id: 0000:09:00.0, compute capability: 7.5\n"
     ]
    }
   ],
   "execution_count": 11
  },
  {
   "cell_type": "code",
   "metadata": {
    "ExecuteTime": {
     "end_time": "2024-06-29T13:44:09.372848Z",
     "start_time": "2024-06-29T13:44:09.368701Z"
    }
   },
   "source": [
    "class CustomCheckpoint(Callback):\n",
    "    def __init__(self, filepath):\n",
    "        super(CustomCheckpoint, self).__init__()\n",
    "        self.filepath = filepath\n",
    "        self.best_val_accuracy = -1\n",
    "\n",
    "    def on_epoch_end(self, epoch, logs=None):\n",
    "        logs = logs or {}\n",
    "        val_binary_acc = logs.get('val_binary_acc')\n",
    "\n",
    "        if val_binary_acc is not None and val_binary_acc > self.best_val_accuracy and val_binary_acc > 0.4:\n",
    "            self.best_val_accuracy = val_binary_acc\n",
    "            filepath = f'{self.filepath}_epoch{epoch + 1}_val_acc{val_binary_acc:.4f}.keras'\n",
    "            self.model.save(filepath, overwrite=True)\n",
    "            print(f'Saved model to {filepath} with validation accuracy: {val_binary_acc:.4f}')\n",
    "        else:\n",
    "            # 10 epoch ごとにモデルを保存\n",
    "            if (epoch + 1) % 10 == 0:\n",
    "                filepath = f'{self.filepath}_epoch{epoch + 1}_val_acc{val_binary_acc:.4f}.keras'\n",
    "                self.model.save(filepath, overwrite=True)\n",
    "                print(f'Saved model to {filepath} with validation accuracy: {val_binary_acc:.4f}')\n",
    "\n",
    "\n",
    "# カスタムチェックポイントのコールバックを作成\n",
    "custom_checkpoint = CustomCheckpoint(filepath='model_dense')"
   ],
   "outputs": [],
   "execution_count": 12
  },
  {
   "cell_type": "code",
   "metadata": {},
   "source": [
    "# モデルの学習\n",
    "history = model.fit(\n",
    "    generator_load_all(BATCH_SIZE, train_study_ids, is_augmentation=True, is_shuffle=True),\n",
    "    steps_per_epoch=len(train_study_ids) // BATCH_SIZE,\n",
    "    epochs=EPOCHS,\n",
    "    validation_data=generator_load_all(BATCH_SIZE, valid_study_ids),\n",
    "    validation_steps=len(valid_study_ids) // BATCH_SIZE,\n",
    "    callbacks=[custom_checkpoint]\n",
    ")\n",
    "\n",
    "model.save(model_path)"
   ],
   "outputs": [],
   "execution_count": null
  },
  {
   "metadata": {},
   "cell_type": "code",
   "source": [
    "# lossとaccuracyのグラフを描画\n",
    "plt.plot(history.history['loss'], label='loss')\n",
    "plt.plot(history.history['val_loss'], label='val_loss')\n",
    "plt.show()\n",
    "\n",
    "plt.plot(history.history['binary_acc'], label='binary_acc')\n",
    "plt.plot(history.history['val_binary_acc'], label='val_binary_acc')\n",
    "plt.show()\n",
    "\n",
    "plt.plot(history.history['total_acc'], label='total_acc')\n",
    "plt.plot(history.history['val_total_acc'], label='val_total_acc')\n",
    "plt.show()\n"
   ],
   "outputs": [],
   "execution_count": null
  },
  {
   "cell_type": "code",
   "metadata": {
    "ExecuteTime": {
     "end_time": "2024-06-29T13:45:27.237946Z",
     "start_time": "2024-06-29T13:45:23.281795Z"
    }
   },
   "source": [
    "# モデルの読み込み\n",
    "loaded_model = tf.keras.models.load_model(model_path, custom_objects={\n",
    "    'binary_acc': binary_acc,\n",
    "    'total_acc': total_acc\n",
    "})"
   ],
   "outputs": [],
   "execution_count": 13
  },
  {
   "cell_type": "code",
   "metadata": {
    "ExecuteTime": {
     "end_time": "2024-06-29T13:45:44.700929Z",
     "start_time": "2024-06-29T13:45:27.841973Z"
    }
   },
   "source": [
    "# モデルの評価\n",
    "score = loaded_model.evaluate(\n",
    "    generator_with_load_data(\n",
    "        BATCH_SIZE,\n",
    "        test_study_ids,\n",
    "        'test_data',\n",
    "        is_augmentation=False,\n",
    "        is_shuffle=False\n",
    "    ),\n",
    "    steps=len(test_study_ids) // BATCH_SIZE)\n",
    "print('Test loss:', score[0])\n",
    "print('Test accuracy:', score[1])"
   ],
   "outputs": [
    {
     "name": "stderr",
     "output_type": "stream",
     "text": [
      "WARNING: All log messages before absl::InitializeLog() is called are written to STDERR\n",
      "I0000 00:00:1719668733.007435   78974 service.cc:145] XLA service 0x7a77d4001b80 initialized for platform CUDA (this does not guarantee that XLA will be used). Devices:\n",
      "I0000 00:00:1719668733.007475   78974 service.cc:153]   StreamExecutor device (0): NVIDIA GeForce RTX 2070 SUPER, Compute Capability 7.5\n",
      "2024-06-29 22:45:33.270467: I tensorflow/compiler/mlir/tensorflow/utils/dump_mlir_util.cc:268] disabling MLIR crash reproducer, set env var `MLIR_CRASH_REPRODUCER_DIRECTORY` to enable.\n",
      "2024-06-29 22:45:34.339048: I external/local_xla/xla/stream_executor/cuda/cuda_dnn.cc:465] Loaded cuDNN version 8907\n"
     ]
    },
    {
     "name": "stdout",
     "output_type": "stream",
     "text": [
      "\u001B[1m 3/12\u001B[0m \u001B[32m━━━━━\u001B[0m\u001B[37m━━━━━━━━━━━━━━━\u001B[0m \u001B[1m0s\u001B[0m 73ms/step - binary_acc: 0.8817 - loss: 0.3130 - total_acc: 0.1215"
     ]
    },
    {
     "name": "stderr",
     "output_type": "stream",
     "text": [
      "I0000 00:00:1719668743.902274   78974 device_compiler.h:188] Compiled cluster using XLA!  This line is logged at most once for the lifetime of the process.\n"
     ]
    },
    {
     "name": "stdout",
     "output_type": "stream",
     "text": [
      "\u001B[1m12/12\u001B[0m \u001B[32m━━━━━━━━━━━━━━━━━━━━\u001B[0m\u001B[37m\u001B[0m \u001B[1m17s\u001B[0m 67ms/step - binary_acc: 0.8669 - loss: 0.3261 - total_acc: 0.0722\n",
      "Test loss: 0.32824137806892395\n",
      "Test accuracy: 0.8641666769981384\n"
     ]
    }
   ],
   "execution_count": 14
  },
  {
   "cell_type": "code",
   "metadata": {
    "ExecuteTime": {
     "end_time": "2024-06-29T14:02:16.467242Z",
     "start_time": "2024-06-29T14:02:13.722264Z"
    }
   },
   "source": [
    "# 正答率を保存する\n",
    "correct_rate = {}\n",
    "for condition in CONDITIONS:\n",
    "    for level in LEVELS:\n",
    "        correct_rate[f'{condition}_{level}'] = 0\n",
    "\n",
    "\n",
    "for i, (x_batch, y_batch) in enumerate(\n",
    "        generator_with_load_data(\n",
    "            BATCH_SIZE,\n",
    "            test_study_ids,\n",
    "            'test_data',\n",
    "            is_augmentation=False,\n",
    "            is_shuffle=False,\n",
    "            is_only_one_epoch=True\n",
    "        )):\n",
    "    y_pred = loaded_model.predict(x_batch)\n",
    "    print(f'batch {i + 1} : {y_pred.shape}')\n",
    "    \n",
    "    # 1バッチ分のデータを一つずつ取り出す\n",
    "    for j in range(min(BATCH_SIZE, len(y_pred))):\n",
    "        \n",
    "        # (25, 3) に変換\n",
    "        y_pred_reshaped = y_pred[j].reshape((N_LABELS, 3))\n",
    "        y_true_reshaped = y_batch[j].reshape((N_LABELS, 3))\n",
    "        \n",
    "        # 0.5 以上の値を 1 に変換\n",
    "        y_pred_reshaped = np.where(y_pred_reshaped >= 0.5, 1, 0)\n",
    "        \n",
    "        \n",
    "        # 最も大きい値を取得\n",
    "        y_pred_argmax = np.argmax(y_pred_reshaped, axis=1)\n",
    "        y_true_argmax = np.argmax(y_true_reshaped, axis=1)\n",
    "        \n",
    "        # print(f'y_pred_argmax : {y_pred_argmax}')\n",
    "        # print(f'y_true_argmax : {y_true_argmax}')\n",
    "        # \n",
    "        # print(f'y_true_argmax : {y_true_argmax.shape}')\n",
    "        \n",
    "        # 書くレベルと条件に対して正解しているかどうかを確認\n",
    "        for i, cond in enumerate(CONDITIONS):\n",
    "            for j, level in enumerate(LEVELS):\n",
    "                index = i * len(LEVELS) + j\n",
    "                if y_pred_argmax[index] == y_true_argmax[index]:\n",
    "                    correct_rate[f'{cond}_{level}'] += 1\n",
    "                    \n",
    "# 正答率を計算, condition ごとに計算, levelはまとめる\n",
    "condition_rate_list = []\n",
    "for condition in CONDITIONS:\n",
    "    rate = 0\n",
    "    for level in LEVELS:\n",
    "        rate += correct_rate[f'{condition}_{level}']\n",
    "    condition_rate_list.append(rate / (len(test_study_ids) * len(LEVELS)))\n",
    "    \n",
    "# levelごとの正答率を計算\n",
    "level_rate_list = []\n",
    "for level in LEVELS:\n",
    "    rate = 0\n",
    "    for condition in CONDITIONS:\n",
    "        rate += correct_rate[f'{condition}_{level}']\n",
    "    level_rate_list.append(rate / (len(test_study_ids) * len(CONDITIONS)))\n",
    "    \n",
    "# 棒グラフで表示\n",
    "plt.figure(figsize=(20, 10))\n",
    "plt.bar(CONDITIONS, condition_rate_list)\n",
    "\n",
    "plt.figure(figsize=(20, 10))\n",
    "plt.bar(LEVELS, level_rate_list)\n"
   ],
   "outputs": [
    {
     "name": "stdout",
     "output_type": "stream",
     "text": [
      "\u001B[1m1/1\u001B[0m \u001B[32m━━━━━━━━━━━━━━━━━━━━\u001B[0m\u001B[37m\u001B[0m \u001B[1m0s\u001B[0m 57ms/step\n",
      "batch 1 : (16, 75)\n",
      "\u001B[1m1/1\u001B[0m \u001B[32m━━━━━━━━━━━━━━━━━━━━\u001B[0m\u001B[37m\u001B[0m \u001B[1m0s\u001B[0m 59ms/step\n",
      "batch 2 : (16, 75)\n",
      "\u001B[1m1/1\u001B[0m \u001B[32m━━━━━━━━━━━━━━━━━━━━\u001B[0m\u001B[37m\u001B[0m \u001B[1m0s\u001B[0m 57ms/step\n",
      "batch 3 : (16, 75)\n",
      "\u001B[1m1/1\u001B[0m \u001B[32m━━━━━━━━━━━━━━━━━━━━\u001B[0m\u001B[37m\u001B[0m \u001B[1m0s\u001B[0m 58ms/step\n",
      "batch 4 : (16, 75)\n",
      "\u001B[1m1/1\u001B[0m \u001B[32m━━━━━━━━━━━━━━━━━━━━\u001B[0m\u001B[37m\u001B[0m \u001B[1m0s\u001B[0m 60ms/step\n",
      "batch 5 : (16, 75)\n",
      "\u001B[1m1/1\u001B[0m \u001B[32m━━━━━━━━━━━━━━━━━━━━\u001B[0m\u001B[37m\u001B[0m \u001B[1m0s\u001B[0m 58ms/step\n",
      "batch 6 : (16, 75)\n",
      "\u001B[1m1/1\u001B[0m \u001B[32m━━━━━━━━━━━━━━━━━━━━\u001B[0m\u001B[37m\u001B[0m \u001B[1m0s\u001B[0m 58ms/step\n",
      "batch 7 : (16, 75)\n",
      "\u001B[1m1/1\u001B[0m \u001B[32m━━━━━━━━━━━━━━━━━━━━\u001B[0m\u001B[37m\u001B[0m \u001B[1m0s\u001B[0m 57ms/step\n",
      "batch 8 : (16, 75)\n",
      "\u001B[1m1/1\u001B[0m \u001B[32m━━━━━━━━━━━━━━━━━━━━\u001B[0m\u001B[37m\u001B[0m \u001B[1m0s\u001B[0m 57ms/step\n",
      "batch 9 : (16, 75)\n",
      "\u001B[1m1/1\u001B[0m \u001B[32m━━━━━━━━━━━━━━━━━━━━\u001B[0m\u001B[37m\u001B[0m \u001B[1m0s\u001B[0m 58ms/step\n",
      "batch 10 : (16, 75)\n",
      "\u001B[1m1/1\u001B[0m \u001B[32m━━━━━━━━━━━━━━━━━━━━\u001B[0m\u001B[37m\u001B[0m \u001B[1m0s\u001B[0m 56ms/step\n",
      "batch 11 : (16, 75)\n",
      "\u001B[1m1/1\u001B[0m \u001B[32m━━━━━━━━━━━━━━━━━━━━\u001B[0m\u001B[37m\u001B[0m \u001B[1m0s\u001B[0m 55ms/step\n",
      "batch 12 : (16, 75)\n",
      "\u001B[1m1/1\u001B[0m \u001B[32m━━━━━━━━━━━━━━━━━━━━\u001B[0m\u001B[37m\u001B[0m \u001B[1m0s\u001B[0m 36ms/step\n",
      "batch 13 : (6, 75)\n"
     ]
    },
    {
     "data": {
      "text/plain": [
       "<BarContainer object of 5 artists>"
      ]
     },
     "execution_count": 33,
     "metadata": {},
     "output_type": "execute_result"
    },
    {
     "data": {
      "text/plain": [
       "<Figure size 2000x1000 with 1 Axes>"
      ],
      "image/png": "[encoded data removed]"
     },
     "metadata": {},
     "output_type": "display_data"
    },
    {
     "data": {
      "text/plain": [
       "<Figure size 2000x1000 with 1 Axes>"
      ],
      "image/png": "[encoded data removed]"
     },
     "metadata": {},
     "output_type": "display_data"
    }
   ],
   "execution_count": 33
  },
  {
   "metadata": {},
   "cell_type": "code",
   "outputs": [],
   "execution_count": null,
   "source": ""
  }
 ],
 "metadata": {
  "kernelspec": {
   "display_name": ".venv",
   "language": "python",
   "name": "python3"
  },
  "language_info": {
   "codemirror_mode": {
    "name": "ipython",
    "version": 3
   },
   "file_extension": ".py",
   "mimetype": "text/x-python",
   "name": "python",
   "nbconvert_exporter": "python",
   "pygments_lexer": "ipython3",
   "version": "3.10.13"
  }
 },
 "nbformat": 4,
 "nbformat_minor": 2
}
