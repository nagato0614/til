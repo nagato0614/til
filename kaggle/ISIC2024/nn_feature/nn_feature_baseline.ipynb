{
 "cells": [
  {
   "cell_type": "code",
   "id": "f55a1f5d",
   "metadata": {
    "execution": {
     "iopub.execute_input": "2024-07-04T01:33:24.512870Z",
     "iopub.status.busy": "2024-07-04T01:33:24.512507Z",
     "iopub.status.idle": "2024-07-04T01:33:27.489575Z",
     "shell.execute_reply": "2024-07-04T01:33:27.488544Z"
    },
    "papermill": {
     "duration": 2.985316,
     "end_time": "2024-07-04T01:33:27.492098",
     "exception": false,
     "start_time": "2024-07-04T01:33:24.506782",
     "status": "completed"
    },
    "tags": [],
    "ExecuteTime": {
     "end_time": "2024-07-24T13:18:27.170365Z",
     "start_time": "2024-07-24T13:18:08.884499Z"
    }
   },
   "source": [
    "import numpy as np\n",
    "import pandas as pd\n",
    "import pandas.api.types\n",
    "import matplotlib.pyplot as plt\n",
    "from sklearn.preprocessing import OrdinalEncoder\n",
    "from sklearn.metrics import roc_curve, auc, roc_auc_score\n",
    "from sklearn.model_selection import GroupKFold, StratifiedGroupKFold\n",
    "\n",
    "import cv2\n",
    "import numpy as np\n",
    "import pandas as pd\n",
    "import pydicom as dicom\n",
    "from keras import Model, Input, Layer\n",
    "from keras.src.layers import Dense, Dropout\n",
    "import tensorflow as tf\n",
    "import matplotlib.pyplot as plt\n",
    "from keras.src.callbacks import Callback\n",
    "from sklearn.metrics import roc_curve, auc, roc_auc_score\n",
    "from tensorflow.python.framework import constant_op\n",
    "from tensorflow.python.ops import clip_ops, math_ops\n",
    "from tensorflow.keras import backend as K\n",
    "from keras.src import ops\n",
    "import tqdm\n",
    "import lightgbm as lgb\n",
    "from tabnet import TabNet, TabNetClassifier\n",
    "from keras.src.layers import BatchNormalization, Activation"
   ],
   "outputs": [],
   "execution_count": 1
  },
  {
   "cell_type": "code",
   "id": "340abbad",
   "metadata": {
    "execution": {
     "iopub.execute_input": "2024-07-04T01:33:27.502328Z",
     "iopub.status.busy": "2024-07-04T01:33:27.501731Z",
     "iopub.status.idle": "2024-07-04T01:33:35.629077Z",
     "shell.execute_reply": "2024-07-04T01:33:35.627690Z"
    },
    "papermill": {
     "duration": 8.13536,
     "end_time": "2024-07-04T01:33:35.631717",
     "exception": false,
     "start_time": "2024-07-04T01:33:27.496357",
     "status": "completed"
    },
    "tags": [],
    "ExecuteTime": {
     "end_time": "2024-07-24T13:18:29.640490Z",
     "start_time": "2024-07-24T13:18:27.172038Z"
    }
   },
   "source": [
    "N_FOLDS = 5\n",
    "base_path = \"/Users/toru/PycharmProjects/isic-2024-challenge\"\n",
    "df_train = pd.read_csv(f\"{base_path}/train-metadata.csv\")\n",
    "df_test = pd.read_csv(f\"{base_path}/test-metadata.csv\")\n",
    "\n",
    "\n",
    "def feature_engineering(df):\n",
    "    df[\"lesion_size_ratio\"] = df[\"tbp_lv_minorAxisMM\"] / df[\"clin_size_long_diam_mm\"]\n",
    "    df[\"lesion_shape_index\"] = df[\"tbp_lv_areaMM2\"] / (df[\"tbp_lv_perimeterMM\"] ** 2)\n",
    "    df[\"hue_contrast\"] = (df[\"tbp_lv_H\"] - df[\"tbp_lv_Hext\"]).abs()\n",
    "    df[\"luminance_contrast\"] = (df[\"tbp_lv_L\"] - df[\"tbp_lv_Lext\"]).abs()\n",
    "    df[\"lesion_color_difference\"] = np.sqrt(\n",
    "        df[\"tbp_lv_deltaA\"] ** 2 + df[\"tbp_lv_deltaB\"] ** 2 + df[\"tbp_lv_deltaL\"] ** 2)\n",
    "    df[\"border_complexity\"] = df[\"tbp_lv_norm_border\"] + df[\"tbp_lv_symm_2axis\"]\n",
    "    df[\"color_uniformity\"] = df[\"tbp_lv_color_std_mean\"] / df[\"tbp_lv_radial_color_std_max\"]\n",
    "    df[\"3d_position_distance\"] = np.sqrt(\n",
    "        df[\"tbp_lv_x\"] ** 2 + df[\"tbp_lv_y\"] ** 2 + df[\"tbp_lv_z\"] ** 2)\n",
    "    df[\"perimeter_to_area_ratio\"] = df[\"tbp_lv_perimeterMM\"] / df[\"tbp_lv_areaMM2\"]\n",
    "    df[\"lesion_visibility_score\"] = df[\"tbp_lv_deltaLBnorm\"] + df[\"tbp_lv_norm_color\"]\n",
    "    df[\"combined_anatomical_site\"] = df[\"anatom_site_general\"] + \"_\" + df[\"tbp_lv_location\"]\n",
    "    df[\"symmetry_border_consistency\"] = df[\"tbp_lv_symm_2axis\"] * df[\"tbp_lv_norm_border\"]\n",
    "    df[\"color_consistency\"] = df[\"tbp_lv_stdL\"] / df[\"tbp_lv_Lext\"]\n",
    "    df[\"size_age_interaction\"] = df[\"clin_size_long_diam_mm\"] * df[\"age_approx\"]\n",
    "    df[\"hue_color_std_interaction\"] = df[\"tbp_lv_H\"] * df[\"tbp_lv_color_std_mean\"]\n",
    "    df[\"lesion_severity_index\"] = (df[\"tbp_lv_norm_border\"] + df[\"tbp_lv_norm_color\"] + df[\n",
    "        \"tbp_lv_eccentricity\"]) / 3\n",
    "    df[\"shape_complexity_index\"] = df[\"border_complexity\"] + df[\"lesion_shape_index\"]\n",
    "    df[\"color_contrast_index\"] = df[\"tbp_lv_deltaA\"] + df[\"tbp_lv_deltaB\"] + df[\"tbp_lv_deltaL\"] + \\\n",
    "                                 df[\"tbp_lv_deltaLBnorm\"]\n",
    "    df[\"log_lesion_area\"] = np.log(df[\"tbp_lv_areaMM2\"] + 1)\n",
    "    df[\"normalized_lesion_size\"] = df[\"clin_size_long_diam_mm\"] / df[\"age_approx\"]\n",
    "    df[\"mean_hue_difference\"] = (df[\"tbp_lv_H\"] + df[\"tbp_lv_Hext\"]) / 2\n",
    "    df[\"std_dev_contrast\"] = np.sqrt(\n",
    "        (df[\"tbp_lv_deltaA\"] ** 2 + df[\"tbp_lv_deltaB\"] ** 2 + df[\"tbp_lv_deltaL\"] ** 2) / 3)\n",
    "    df[\"color_shape_composite_index\"] = (df[\"tbp_lv_color_std_mean\"] + df[\n",
    "        \"tbp_lv_area_perim_ratio\"] + df[\"tbp_lv_symm_2axis\"]) / 3\n",
    "    df[\"3d_lesion_orientation\"] = np.arctan2(df_train[\"tbp_lv_y\"], df_train[\"tbp_lv_x\"])\n",
    "    df[\"overall_color_difference\"] = (df[\"tbp_lv_deltaA\"] + df[\"tbp_lv_deltaB\"] + df[\n",
    "        \"tbp_lv_deltaL\"]) / 3\n",
    "    df[\"symmetry_perimeter_interaction\"] = df[\"tbp_lv_symm_2axis\"] * df[\"tbp_lv_perimeterMM\"]\n",
    "    df[\"comprehensive_lesion_index\"] = (df[\"tbp_lv_area_perim_ratio\"] + df[\"tbp_lv_eccentricity\"] +\n",
    "                                        df[\"tbp_lv_norm_color\"] + df[\"tbp_lv_symm_2axis\"]) / 4\n",
    "    df[\"color_variance_ratio\"] = df[\"tbp_lv_color_std_mean\"] / df[\"tbp_lv_stdLExt\"]\n",
    "    df[\"border_color_interaction\"] = df[\"tbp_lv_norm_border\"] * df[\"tbp_lv_norm_color\"]\n",
    "    df[\"size_color_contrast_ratio\"] = df[\"clin_size_long_diam_mm\"] / df[\"tbp_lv_deltaLBnorm\"]\n",
    "    df[\"age_normalized_nevi_confidence\"] = df[\"tbp_lv_nevi_confidence\"] / df[\"age_approx\"]\n",
    "    df[\"color_asymmetry_index\"] = df[\"tbp_lv_radial_color_std_max\"] * df[\"tbp_lv_symm_2axis\"]\n",
    "    df[\"3d_volume_approximation\"] = df[\"tbp_lv_areaMM2\"] * np.sqrt(\n",
    "        df[\"tbp_lv_x\"] ** 2 + df[\"tbp_lv_y\"] ** 2 + df[\"tbp_lv_z\"] ** 2)\n",
    "    df[\"color_range\"] = (df[\"tbp_lv_L\"] - df[\"tbp_lv_Lext\"]).abs() + (\n",
    "            df[\"tbp_lv_A\"] - df[\"tbp_lv_Aext\"]).abs() + (\n",
    "                                df[\"tbp_lv_B\"] - df[\"tbp_lv_Bext\"]).abs()\n",
    "    df[\"shape_color_consistency\"] = df[\"tbp_lv_eccentricity\"] * df[\"tbp_lv_color_std_mean\"]\n",
    "    df[\"border_length_ratio\"] = df[\"tbp_lv_perimeterMM\"] / (\n",
    "            2 * np.pi * np.sqrt(df[\"tbp_lv_areaMM2\"] / np.pi))\n",
    "    df[\"age_size_symmetry_index\"] = df[\"age_approx\"] * df[\"clin_size_long_diam_mm\"] * df[\n",
    "        \"tbp_lv_symm_2axis\"]\n",
    "\n",
    "    # 病変の色の標準偏差と年齢の関係\n",
    "    df[\"color_age_interaction\"] = df[\"tbp_lv_color_std_mean\"] * df[\"age_approx\"]\n",
    "\n",
    "    # 病変の面積と年齢の関係\n",
    "    df['area_age_interaction'] = df['tbp_lv_areaMM2'] * df['age_approx']\n",
    "\n",
    "    # ネビス信頼度を面積で正規化\n",
    "    df['nevi_confidence_area'] = df['tbp_lv_nevi_confidence'] / df['tbp_lv_areaMM2']\n",
    "\n",
    "    # ネビス信頼度を色不規則性で割ったもの\n",
    "    df['nevi_confidence_color'] = df['tbp_lv_nevi_confidence'] / df['tbp_lv_color_std_mean']\n",
    "\n",
    "    # 病変の体積\n",
    "    df['tbp_lv_areaMM3'] = df['3d_position_distance'] * df['tbp_lv_areaMM2']\n",
    "\n",
    "    new_num_cols = [\n",
    "        \"lesion_size_ratio\", \"lesion_shape_index\", \"hue_contrast\",\n",
    "        \"luminance_contrast\",\n",
    "        \"lesion_color_difference\", \"border_complexity\",\n",
    "        \"color_uniformity\", \"3d_position_distance\", \"perimeter_to_area_ratio\",\n",
    "        \"lesion_visibility_score\", \"symmetry_border_consistency\", \"color_consistency\",\n",
    "        \"size_age_interaction\",\n",
    "        \"hue_color_std_interaction\",\n",
    "        \"lesion_severity_index\",\n",
    "        \"shape_complexity_index\", \"color_contrast_index\", \"log_lesion_area\",\n",
    "        \"normalized_lesion_size\", \"mean_hue_difference\", \"std_dev_contrast\",\n",
    "        \"color_shape_composite_index\", \"3d_lesion_orientation\", \"overall_color_difference\",\n",
    "        \"symmetry_perimeter_interaction\", \"comprehensive_lesion_index\", \"color_age_interaction\",\n",
    "        \"area_age_interaction\", \"color_variance_ratio\", \"border_color_interaction\",\n",
    "        \"size_color_contrast_ratio\",\n",
    "        \"age_normalized_nevi_confidence\", \"color_asymmetry_index\", \"3d_volume_approximation\",\n",
    "        \"color_range\", \"shape_color_consistency\", \"border_length_ratio\",\n",
    "        \"age_size_symmetry_index\", \"nevi_confidence_area\", \"nevi_confidence_color\", \"tbp_lv_areaMM3\"\n",
    "    ]\n",
    "    new_cat_cols = [\"combined_anatomical_site\"]\n",
    "\n",
    "    return df, new_num_cols, new_cat_cols\n",
    "\n",
    "\n",
    "df_train, new_num_cols, new_cat_cols = feature_engineering(df_train.copy())\n",
    "df_test, _, _ = feature_engineering(df_test.copy())\n",
    "\n",
    "num_cols = [\n",
    "               'age_approx', 'clin_size_long_diam_mm', 'tbp_lv_A', 'tbp_lv_Aext', 'tbp_lv_B',\n",
    "               'tbp_lv_Bext',\n",
    "               'tbp_lv_C', 'tbp_lv_Cext', 'tbp_lv_H', 'tbp_lv_Hext', 'tbp_lv_L',\n",
    "               'tbp_lv_Lext', 'tbp_lv_areaMM2', 'tbp_lv_area_perim_ratio', 'tbp_lv_color_std_mean',\n",
    "               'tbp_lv_deltaA', 'tbp_lv_deltaB', 'tbp_lv_deltaL', 'tbp_lv_deltaLB',\n",
    "               'tbp_lv_deltaLBnorm', 'tbp_lv_eccentricity', 'tbp_lv_minorAxisMM',\n",
    "               'tbp_lv_nevi_confidence', 'tbp_lv_norm_border', 'tbp_lv_norm_color',\n",
    "               'tbp_lv_perimeterMM', 'tbp_lv_radial_color_std_max', 'tbp_lv_stdL',\n",
    "               'tbp_lv_stdLExt', 'tbp_lv_symm_2axis', 'tbp_lv_symm_2axis_angle',\n",
    "               'tbp_lv_x', 'tbp_lv_y', 'tbp_lv_z',\n",
    "           ] + new_num_cols\n",
    "# anatom_site_general\n",
    "cat_cols = [\"sex\", \"tbp_tile_type\", \"tbp_lv_location\", \"tbp_lv_location_simple\"] + new_cat_cols\n",
    "train_cols = num_cols + cat_cols\n",
    "\n",
    "# 削除する特徴量\n",
    "remove_cols = [\n",
    "    \"hue_color_std_interaction\",\n",
    "    \"luminance_contrast\",\n",
    "    \"tbp_lv_norm_color\",\n",
    "    \"tbp_lv_color_std_mean\",\n",
    "    \"std_dev_contrast\",\n",
    "    \"sex\",\n",
    "    \"border_length_ratio\",\n",
    "    \"tbp_tile_type\",\n",
    "    \"tbp_lv_location_simple\",\n",
    "    \"log_lesion_area\",\n",
    "    \"comprehensive_lesion_index\",\n",
    "    \"symmetry_perimeter_interaction\",\n",
    "    \"combined_anatomical_site\",\n",
    "    \"shape_complexity_index\",\n",
    "    \"color_shape_composite_index\",\n",
    "    \"tbp_lv_areaMM2\",\n",
    "    \"lesion_shape_index\",\n",
    "    \"tbp_lv_area_perim_ratio\",\n",
    "    \"border_color_interaction\",\n",
    "    \"shape_color_consistency\",\n",
    "]\n",
    "\n",
    "category_encoder = OrdinalEncoder(\n",
    "    categories='auto',\n",
    "    dtype=int,\n",
    "    handle_unknown='use_encoded_value',\n",
    "    unknown_value=-2,\n",
    "    encoded_missing_value=-1,\n",
    ")\n",
    "\n",
    "X_cat = category_encoder.fit_transform(df_train[cat_cols])\n",
    "for c, cat_col in enumerate(cat_cols):\n",
    "    df_train[cat_col] = X_cat[:, c]\n",
    "\n",
    "# 特徴量を一部削除する\n",
    "# 削除する特徴量\n",
    "remove_cols = [\n",
    "    \"hue_color_std_interaction\",\n",
    "    \"luminance_contrast\",\n",
    "    \"tbp_lv_norm_color\",\n",
    "    \"tbp_lv_color_std_mean\",\n",
    "    \"std_dev_contrast\",\n",
    "    \"sex\",\n",
    "    \"border_length_ratio\",\n",
    "    \"tbp_tile_type\",\n",
    "    \"tbp_lv_location_simple\",\n",
    "    \"log_lesion_area\",\n",
    "\n",
    "]\n",
    "\n",
    "df_train = df_train.drop(remove_cols, axis=1)\n",
    "df_test = df_test.drop(remove_cols, axis=1)\n",
    "\n",
    "# train_cols からも削除する\n",
    "for col in remove_cols:\n",
    "    if col in train_cols:\n",
    "        train_cols.remove(col)\n",
    "\n",
    "# cat_cols からも削除する\n",
    "for col in remove_cols:\n",
    "    if col in cat_cols:\n",
    "        cat_cols.remove(col)"
   ],
   "outputs": [
    {
     "name": "stderr",
     "output_type": "stream",
     "text": [
      "/var/folders/1j/s9068l9s3pl56py3mj3r1wkh0000gn/T/ipykernel_19698/141428101.py:3: DtypeWarning: Columns (51,52) have mixed types. Specify dtype option on import or set low_memory=False.\n",
      "  df_train = pd.read_csv(f\"{base_path}/train-metadata.csv\")\n"
     ]
    }
   ],
   "execution_count": 2
  },
  {
   "cell_type": "code",
   "id": "7205a849c47f8714",
   "metadata": {
    "ExecuteTime": {
     "end_time": "2024-07-24T13:18:29.770973Z",
     "start_time": "2024-07-24T13:18:29.641295Z"
    }
   },
   "source": [
    "# 欠損値がある特徴量を確認\n",
    "df_train[train_cols].isnull().sum()\n",
    "\n",
    "# 欠損値を埋める\n",
    "for col in train_cols:\n",
    "    if col in num_cols:\n",
    "        df_train[col] = df_train[col].fillna(df_train[col].mean())\n",
    "        df_test[col] = df_test[col].fillna(df_test[col].mean())\n",
    "    elif col in cat_cols:\n",
    "        df_train[col] = df_train[col].fillna(df_train[col].mode()[0])\n",
    "        df_test[col] = df_test[col].fillna(df_test[col].mode()[0])\n"
   ],
   "outputs": [],
   "execution_count": 3
  },
  {
   "metadata": {
    "ExecuteTime": {
     "end_time": "2024-07-24T13:18:29.942576Z",
     "start_time": "2024-07-24T13:18:29.772536Z"
    }
   },
   "cell_type": "code",
   "source": [
    "# 陽性と悪性の数をそれぞれ取得\n",
    "n_positive = df_train[\"target\"].sum()\n",
    "n_negative = len(df_train) - n_positive\n",
    "\n",
    "# 陽性と悪性の数が同じになるようにアンダーサンプリング\n",
    "df_train = pd.concat([\n",
    "    df_train[df_train[\"target\"] == 0].sample(n=n_positive * 2, random_state=42),\n",
    "    df_train[df_train[\"target\"] == 1]\n",
    "], axis=0).reset_index(drop=True)"
   ],
   "id": "78cf933b63b639f9",
   "outputs": [],
   "execution_count": 4
  },
  {
   "metadata": {
    "ExecuteTime": {
     "end_time": "2024-07-24T13:18:29.947794Z",
     "start_time": "2024-07-24T13:18:29.943522Z"
    }
   },
   "cell_type": "code",
   "source": [
    "# df_train の 良性と悪性の数を確認\n",
    "df_train[\"target\"].value_counts()"
   ],
   "id": "5192fc85b4b6b02c",
   "outputs": [
    {
     "data": {
      "text/plain": [
       "target\n",
       "0    786\n",
       "1    393\n",
       "Name: count, dtype: int64"
      ]
     },
     "execution_count": 5,
     "metadata": {},
     "output_type": "execute_result"
    }
   ],
   "execution_count": 5
  },
  {
   "cell_type": "code",
   "id": "26149aaa",
   "metadata": {
    "execution": {
     "iopub.execute_input": "2024-07-04T01:33:35.641699Z",
     "iopub.status.busy": "2024-07-04T01:33:35.640747Z",
     "iopub.status.idle": "2024-07-04T01:33:36.170859Z",
     "shell.execute_reply": "2024-07-04T01:33:36.169897Z"
    },
    "papermill": {
     "duration": 0.537754,
     "end_time": "2024-07-04T01:33:36.173478",
     "exception": false,
     "start_time": "2024-07-04T01:33:35.635724",
     "status": "completed"
    },
    "tags": [],
    "ExecuteTime": {
     "end_time": "2024-07-24T13:18:29.954318Z",
     "start_time": "2024-07-24T13:18:29.948860Z"
    }
   },
   "source": [
    "gkf = GroupKFold(n_splits=N_FOLDS)  # , shuffle=True, random_state=42\n",
    "df_train[\"fold\"] = -1\n",
    "for idx, (train_idx, val_idx) in enumerate(\n",
    "        gkf.split(df_train, df_train[\"target\"], groups=df_train[\"patient_id\"])):\n",
    "    df_train.loc[val_idx, \"fold\"] = idx"
   ],
   "outputs": [],
   "execution_count": 6
  },
  {
   "metadata": {
    "ExecuteTime": {
     "end_time": "2024-07-24T13:18:29.957408Z",
     "start_time": "2024-07-24T13:18:29.955066Z"
    }
   },
   "cell_type": "code",
   "source": [
    "# 隠れ層のサイズ\n",
    "HIDDEN_SIZE = 100\n",
    "\n",
    "def binary_crossentropy_balance(target, output):\n",
    "    # target を output の型にキャスト\n",
    "    target = tf.dtypes.cast(target, output.dtype)\n",
    "    epsilon_ = constant_op.constant(0.00001, output.dtype)\n",
    "\n",
    "    # nan を防ぐためにクリップ\n",
    "    output = clip_ops.clip_by_value(output, epsilon_, 0.99999)\n",
    "\n",
    "    # 交差エントロピーの計算\n",
    "    bce = target * math_ops.log(output + epsilon_) * 2\n",
    "    bce += (1.0 - target) * math_ops.log(1.0 - output + epsilon_)\n",
    "\n",
    "    bce_sum = -K.sum(bce, axis=-1)\n",
    "    return bce_sum"
   ],
   "id": "129e290a3d78744a",
   "outputs": [],
   "execution_count": 7
  },
  {
   "cell_type": "code",
   "id": "3e4e9960ebf46376",
   "metadata": {
    "ExecuteTime": {
     "end_time": "2024-07-24T13:19:33.673299Z",
     "start_time": "2024-07-24T13:19:33.667784Z"
    }
   },
   "source": [
    "\n",
    "\n",
    "\n",
    "def create_model():\n",
    "    \"\"\"\n",
    "    3層の全結合層\n",
    "    :return: \n",
    "    \"\"\"\n",
    "    column_size = len(train_cols)\n",
    "    input_shape = (column_size,)\n",
    "    inputs = Input(shape=input_shape)\n",
    "\n",
    "    x = inputs\n",
    "    \n",
    "    # 隠れ層\n",
    "    x = Dense(HIDDEN_SIZE)(x)\n",
    "    x = BatchNormalization()(x)\n",
    "    x = Activation('relu')(x)\n",
    " \n",
    "    x = Dense(HIDDEN_SIZE)(x)\n",
    "    x = BatchNormalization()(x)\n",
    "    x = Activation('relu')(x)\n",
    " \n",
    "    x = Dropout(0.1)(x)\n",
    "\n",
    "    # 出力層\n",
    "    x = Dense(1, activation='sigmoid')(x)\n",
    "\n",
    "    # optimizer : Adam\n",
    "    opt = tf.keras.optimizers.AdamW(learning_rate=0.002)\n",
    "\n",
    "    # モデルの作成\n",
    "    model = Model(inputs=inputs, outputs=x, name=\"nn_featurea\")\n",
    "\n",
    "    # モデルのコンパイル\n",
    "    model.compile(optimizer=opt, loss=binary_crossentropy_balance, metrics=['accuracy'])\n",
    "\n",
    "    return model"
   ],
   "outputs": [],
   "execution_count": 17
  },
  {
   "cell_type": "code",
   "id": "5c85bdabf3224e40",
   "metadata": {
    "ExecuteTime": {
     "end_time": "2024-07-24T13:19:34.187430Z",
     "start_time": "2024-07-24T13:19:34.183747Z"
    }
   },
   "source": [
    "from keras.src.callbacks import EarlyStopping\n",
    "\n",
    "\n",
    "class CustomCheckpoint(Callback):\n",
    "    def __init__(self, filepath):\n",
    "        super(CustomCheckpoint, self).__init__()\n",
    "        self.filepath = filepath\n",
    "        self.best_val_accuracy = 1.0\n",
    "\n",
    "    def on_epoch_end(self, epoch, logs=None):\n",
    "        logs = logs or {}\n",
    "        val_log_loss_metrics = logs.get('val_loss')\n",
    "\n",
    "        if val_log_loss_metrics is not None and val_log_loss_metrics < self.best_val_accuracy and val_log_loss_metrics < 0.8:\n",
    "            self.best_val_accuracy = val_log_loss_metrics\n",
    "            filepath = f'{self.filepath}.keras'\n",
    "            self.model.save(filepath, overwrite=True)\n",
    "            print(f'Saved model to {filepath} with validation accuracy: {val_log_loss_metrics:.4f}')\n",
    "\n",
    "\n",
    "# カスタムチェックポイントのコールバックを作成\n",
    "custom_checkpoint = CustomCheckpoint(filepath='model_dense')\n",
    "Ecall = EarlyStopping(monitor='val_loss', patience=1, restore_best_weights=True)"
   ],
   "outputs": [],
   "execution_count": 18
  },
  {
   "cell_type": "code",
   "id": "7c5a73f3",
   "metadata": {
    "execution": {
     "iopub.execute_input": "2024-07-04T01:33:36.183583Z",
     "iopub.status.busy": "2024-07-04T01:33:36.182667Z",
     "iopub.status.idle": "2024-07-04T01:41:12.522773Z",
     "shell.execute_reply": "2024-07-04T01:41:12.521606Z"
    },
    "papermill": {
     "duration": 456.351754,
     "end_time": "2024-07-04T01:41:12.529318",
     "exception": false,
     "start_time": "2024-07-04T01:33:36.177564",
     "status": "completed"
    },
    "tags": [],
    "ExecuteTime": {
     "end_time": "2024-07-24T13:19:48.250119Z",
     "start_time": "2024-07-24T13:19:34.502627Z"
    }
   },
   "source": [
    "def comp_score(solution: pd.DataFrame, submission: pd.DataFrame, row_id_column_name: str,\n",
    "               min_tpr: float = 0.80):\n",
    "    v_gt = abs(np.asarray(solution.values) - 1)\n",
    "    v_pred = np.array([1.0 - x for x in submission.values])\n",
    "    max_fpr = abs(1 - min_tpr)\n",
    "    partial_auc_scaled = roc_auc_score(v_gt, v_pred, max_fpr=max_fpr)\n",
    "    # change scale from [0.5, 1.0] to [0.5 * max_fpr**2, max_fpr]\n",
    "    # https://math.stackexchange.com/questions/914823/shift-numbers-into-a-different-range\n",
    "    partial_auc = 0.5 * max_fpr ** 2 + (max_fpr - 0.5 * max_fpr ** 2) / (1.0 - 0.5) * (\n",
    "            partial_auc_scaled - 0.5)\n",
    "    return partial_auc\n",
    "\n",
    "\n",
    "BATCH_SIZE = 300\n",
    "EPOCHS = 1000\n",
    "STEP_SIZE_TRAIN = len(df_train) // BATCH_SIZE\n",
    "\n",
    "scores = []\n",
    "models = []\n",
    "for fold in range(N_FOLDS):\n",
    "    _df_train = df_train[df_train[\"fold\"] != fold].reset_index(drop=True)\n",
    "    _df_valid = df_train[df_train[\"fold\"] == fold].reset_index(drop=True)\n",
    "    \n",
    "    model = create_model()\n",
    "    \n",
    "    x_dataset = _df_train[train_cols]\n",
    "    y_dataset = _df_train[\"target\"]\n",
    "\n",
    "    x_valid_datasets = _df_valid[train_cols]\n",
    "    y_valid_datasets = _df_valid[[\"target\"]]\n",
    "\n",
    "    history = model.fit(\n",
    "        x=x_dataset,  # 説明変数\n",
    "        y=y_dataset,  # 目的変数\n",
    "        batch_size=BATCH_SIZE,  # バッチサイズ\n",
    "        epochs=EPOCHS,  # エポック数\n",
    "        validation_data=(x_valid_datasets, y_valid_datasets),  # 検証データ\n",
    "        callbacks=[Ecall]  # コールバック\n",
    "    )\n",
    "    \n",
    "    preds = model.predict(x_valid_datasets)\n",
    "    score = comp_score(_df_valid[[\"target\"]], pd.DataFrame(preds, columns=[\"prediction\"]), \"\")\n",
    "    preds_df = pd.DataFrame(preds, columns=[\"prediction\"])\n",
    "    print(f\"fold: {fold} - Partial AUC Score: {score:.5f}\")\n",
    "    scores.append(score)\n",
    "    models.append(model)"
   ],
   "outputs": [
    {
     "name": "stdout",
     "output_type": "stream",
     "text": [
      "Epoch 1/1000\n",
      "\u001B[1m4/4\u001B[0m \u001B[32m━━━━━━━━━━━━━━━━━━━━\u001B[0m\u001B[37m\u001B[0m \u001B[1m2s\u001B[0m 180ms/step - accuracy: 0.6675 - loss: 0.9236 - val_accuracy: 0.6653 - val_loss: 0.9252\n",
      "Epoch 2/1000\n",
      "\u001B[1m4/4\u001B[0m \u001B[32m━━━━━━━━━━━━━━━━━━━━\u001B[0m\u001B[37m\u001B[0m \u001B[1m0s\u001B[0m 51ms/step - accuracy: 0.6645 - loss: 0.9257 - val_accuracy: 0.6653 - val_loss: 0.9252\n",
      "\u001B[1m8/8\u001B[0m \u001B[32m━━━━━━━━━━━━━━━━━━━━\u001B[0m\u001B[37m\u001B[0m \u001B[1m0s\u001B[0m 13ms/step\n",
      "fold: 0 - Partial AUC Score: 0.02000\n",
      "Epoch 1/1000\n",
      "\u001B[1m4/4\u001B[0m \u001B[32m━━━━━━━━━━━━━━━━━━━━\u001B[0m\u001B[37m\u001B[0m \u001B[1m2s\u001B[0m 204ms/step - accuracy: 0.5002 - loss: 0.9280 - val_accuracy: 0.3093 - val_loss: 0.9078\n",
      "Epoch 2/1000\n",
      "\u001B[1m4/4\u001B[0m \u001B[32m━━━━━━━━━━━━━━━━━━━━\u001B[0m\u001B[37m\u001B[0m \u001B[1m0s\u001B[0m 59ms/step - accuracy: 0.3376 - loss: 0.9271 - val_accuracy: 0.3093 - val_loss: 0.9080\n",
      "\u001B[1m8/8\u001B[0m \u001B[32m━━━━━━━━━━━━━━━━━━━━\u001B[0m\u001B[37m\u001B[0m \u001B[1m0s\u001B[0m 11ms/step\n",
      "fold: 1 - Partial AUC Score: 0.02000\n",
      "Epoch 1/1000\n",
      "\u001B[1m4/4\u001B[0m \u001B[32m━━━━━━━━━━━━━━━━━━━━\u001B[0m\u001B[37m\u001B[0m \u001B[1m2s\u001B[0m 251ms/step - accuracy: 0.6878 - loss: 0.9096 - val_accuracy: 0.6398 - val_loss: 0.9429\n",
      "Epoch 2/1000\n",
      "\u001B[1m4/4\u001B[0m \u001B[32m━━━━━━━━━━━━━━━━━━━━\u001B[0m\u001B[37m\u001B[0m \u001B[1m0s\u001B[0m 70ms/step - accuracy: 0.6664 - loss: 0.9244 - val_accuracy: 0.6398 - val_loss: 0.9428\n",
      "\u001B[1m8/8\u001B[0m \u001B[32m━━━━━━━━━━━━━━━━━━━━\u001B[0m\u001B[37m\u001B[0m \u001B[1m0s\u001B[0m 17ms/step\n",
      "fold: 2 - Partial AUC Score: 0.02000\n",
      "Epoch 1/1000\n",
      "\u001B[1m4/4\u001B[0m \u001B[32m━━━━━━━━━━━━━━━━━━━━\u001B[0m\u001B[37m\u001B[0m \u001B[1m2s\u001B[0m 215ms/step - accuracy: 0.6776 - loss: 0.9166 - val_accuracy: 0.6398 - val_loss: 0.9430\n",
      "Epoch 2/1000\n",
      "\u001B[1m4/4\u001B[0m \u001B[32m━━━━━━━━━━━━━━━━━━━━\u001B[0m\u001B[37m\u001B[0m \u001B[1m0s\u001B[0m 95ms/step - accuracy: 0.6771 - loss: 0.9168 - val_accuracy: 0.6398 - val_loss: 0.9429\n",
      "\u001B[1m8/8\u001B[0m \u001B[32m━━━━━━━━━━━━━━━━━━━━\u001B[0m\u001B[37m\u001B[0m \u001B[1m0s\u001B[0m 18ms/step\n",
      "fold: 3 - Partial AUC Score: 0.02000\n",
      "Epoch 1/1000\n",
      "\u001B[1m4/4\u001B[0m \u001B[32m━━━━━━━━━━━━━━━━━━━━\u001B[0m\u001B[37m\u001B[0m \u001B[1m2s\u001B[0m 261ms/step - accuracy: 0.4987 - loss: 0.9270 - val_accuracy: 0.3021 - val_loss: 0.9026\n",
      "Epoch 2/1000\n",
      "\u001B[1m4/4\u001B[0m \u001B[32m━━━━━━━━━━━━━━━━━━━━\u001B[0m\u001B[37m\u001B[0m \u001B[1m0s\u001B[0m 121ms/step - accuracy: 0.3378 - loss: 0.9272 - val_accuracy: 0.3021 - val_loss: 0.9026\n",
      "\u001B[1m8/8\u001B[0m \u001B[32m━━━━━━━━━━━━━━━━━━━━\u001B[0m\u001B[37m\u001B[0m \u001B[1m0s\u001B[0m 45ms/step\n",
      "fold: 4 - Partial AUC Score: 0.02000\n"
     ]
    }
   ],
   "execution_count": 19
  },
  {
   "metadata": {
    "ExecuteTime": {
     "end_time": "2024-07-24T13:19:48.255612Z",
     "start_time": "2024-07-24T13:19:48.251206Z"
    }
   },
   "cell_type": "code",
   "source": "preds_df",
   "id": "50bdbeacc9a202a6",
   "outputs": [
    {
     "data": {
      "text/plain": [
       "     prediction\n",
       "0      0.500332\n",
       "1      0.500332\n",
       "2      0.500332\n",
       "3      0.500332\n",
       "4      0.500332\n",
       "..          ...\n",
       "230    0.500332\n",
       "231    0.500332\n",
       "232    0.500332\n",
       "233    0.500332\n",
       "234    0.500332\n",
       "\n",
       "[235 rows x 1 columns]"
      ],
      "text/html": [
       "<div>\n",
       "<style scoped>\n",
       "    .dataframe tbody tr th:only-of-type {\n",
       "        vertical-align: middle;\n",
       "    }\n",
       "\n",
       "    .dataframe tbody tr th {\n",
       "        vertical-align: top;\n",
       "    }\n",
       "\n",
       "    .dataframe thead th {\n",
       "        text-align: right;\n",
       "    }\n",
       "</style>\n",
       "<table border=\"1\" class=\"dataframe\">\n",
       "  <thead>\n",
       "    <tr style=\"text-align: right;\">\n",
       "      <th></th>\n",
       "      <th>prediction</th>\n",
       "    </tr>\n",
       "  </thead>\n",
       "  <tbody>\n",
       "    <tr>\n",
       "      <th>0</th>\n",
       "      <td>0.500332</td>\n",
       "    </tr>\n",
       "    <tr>\n",
       "      <th>1</th>\n",
       "      <td>0.500332</td>\n",
       "    </tr>\n",
       "    <tr>\n",
       "      <th>2</th>\n",
       "      <td>0.500332</td>\n",
       "    </tr>\n",
       "    <tr>\n",
       "      <th>3</th>\n",
       "      <td>0.500332</td>\n",
       "    </tr>\n",
       "    <tr>\n",
       "      <th>4</th>\n",
       "      <td>0.500332</td>\n",
       "    </tr>\n",
       "    <tr>\n",
       "      <th>...</th>\n",
       "      <td>...</td>\n",
       "    </tr>\n",
       "    <tr>\n",
       "      <th>230</th>\n",
       "      <td>0.500332</td>\n",
       "    </tr>\n",
       "    <tr>\n",
       "      <th>231</th>\n",
       "      <td>0.500332</td>\n",
       "    </tr>\n",
       "    <tr>\n",
       "      <th>232</th>\n",
       "      <td>0.500332</td>\n",
       "    </tr>\n",
       "    <tr>\n",
       "      <th>233</th>\n",
       "      <td>0.500332</td>\n",
       "    </tr>\n",
       "    <tr>\n",
       "      <th>234</th>\n",
       "      <td>0.500332</td>\n",
       "    </tr>\n",
       "  </tbody>\n",
       "</table>\n",
       "<p>235 rows × 1 columns</p>\n",
       "</div>"
      ]
     },
     "execution_count": 20,
     "metadata": {},
     "output_type": "execute_result"
    }
   ],
   "execution_count": 20
  },
  {
   "cell_type": "code",
   "id": "b3e64e381ef393c3",
   "metadata": {
    "ExecuteTime": {
     "end_time": "2024-07-24T13:19:49.499685Z",
     "start_time": "2024-07-24T13:19:49.495548Z"
    }
   },
   "source": [
    "np.mean(scores)"
   ],
   "outputs": [
    {
     "data": {
      "text/plain": [
       "0.01999999999999999"
      ]
     },
     "execution_count": 21,
     "metadata": {},
     "output_type": "execute_result"
    }
   ],
   "execution_count": 21
  },
  {
   "metadata": {
    "ExecuteTime": {
     "end_time": "2024-07-24T13:21:29.631559Z",
     "start_time": "2024-07-24T13:21:29.542156Z"
    }
   },
   "cell_type": "code",
   "source": [
    "# 欠損値を埋める\n",
    "for col in train_cols:\n",
    "    if col in num_cols:\n",
    "        df_test[col] = df_test[col].fillna(df_test[col].mean())\n",
    "    elif col in cat_cols:\n",
    "        df_test[col] = df_test[col].fillna(df_test[col].mode()[0])\n",
    "        \n",
    "# 欠損値を確認\n",
    "df_test[train_cols].isnull().sum()\n",
    "\n",
    "preds = np.mean([model.predict(df_test[train_cols]) for model in models], 0)"
   ],
   "id": "c2b37b32",
   "outputs": [
    {
     "ename": "ValueError",
     "evalue": "could not convert string to float: 'Torso Back Top Third'",
     "output_type": "error",
     "traceback": [
      "\u001B[0;31m---------------------------------------------------------------------------\u001B[0m",
      "\u001B[0;31mValueError\u001B[0m                                Traceback (most recent call last)",
      "Cell \u001B[0;32mIn[26], line 11\u001B[0m\n\u001B[1;32m      8\u001B[0m \u001B[38;5;66;03m# 欠損値を確認\u001B[39;00m\n\u001B[1;32m      9\u001B[0m df_test[train_cols]\u001B[38;5;241m.\u001B[39misnull()\u001B[38;5;241m.\u001B[39msum()\n\u001B[0;32m---> 11\u001B[0m preds \u001B[38;5;241m=\u001B[39m np\u001B[38;5;241m.\u001B[39mmean([model\u001B[38;5;241m.\u001B[39mpredict(df_test[train_cols]) \u001B[38;5;28;01mfor\u001B[39;00m model \u001B[38;5;129;01min\u001B[39;00m models], \u001B[38;5;241m0\u001B[39m)\n",
      "Cell \u001B[0;32mIn[26], line 11\u001B[0m, in \u001B[0;36m<listcomp>\u001B[0;34m(.0)\u001B[0m\n\u001B[1;32m      8\u001B[0m \u001B[38;5;66;03m# 欠損値を確認\u001B[39;00m\n\u001B[1;32m      9\u001B[0m df_test[train_cols]\u001B[38;5;241m.\u001B[39misnull()\u001B[38;5;241m.\u001B[39msum()\n\u001B[0;32m---> 11\u001B[0m preds \u001B[38;5;241m=\u001B[39m np\u001B[38;5;241m.\u001B[39mmean([\u001B[43mmodel\u001B[49m\u001B[38;5;241;43m.\u001B[39;49m\u001B[43mpredict\u001B[49m\u001B[43m(\u001B[49m\u001B[43mdf_test\u001B[49m\u001B[43m[\u001B[49m\u001B[43mtrain_cols\u001B[49m\u001B[43m]\u001B[49m\u001B[43m)\u001B[49m \u001B[38;5;28;01mfor\u001B[39;00m model \u001B[38;5;129;01min\u001B[39;00m models], \u001B[38;5;241m0\u001B[39m)\n",
      "File \u001B[0;32m~/project/til/.venv/lib/python3.10/site-packages/keras/src/utils/traceback_utils.py:122\u001B[0m, in \u001B[0;36mfilter_traceback.<locals>.error_handler\u001B[0;34m(*args, **kwargs)\u001B[0m\n\u001B[1;32m    119\u001B[0m     filtered_tb \u001B[38;5;241m=\u001B[39m _process_traceback_frames(e\u001B[38;5;241m.\u001B[39m__traceback__)\n\u001B[1;32m    120\u001B[0m     \u001B[38;5;66;03m# To get the full stack trace, call:\u001B[39;00m\n\u001B[1;32m    121\u001B[0m     \u001B[38;5;66;03m# `keras.config.disable_traceback_filtering()`\u001B[39;00m\n\u001B[0;32m--> 122\u001B[0m     \u001B[38;5;28;01mraise\u001B[39;00m e\u001B[38;5;241m.\u001B[39mwith_traceback(filtered_tb) \u001B[38;5;28;01mfrom\u001B[39;00m \u001B[38;5;28;01mNone\u001B[39;00m\n\u001B[1;32m    123\u001B[0m \u001B[38;5;28;01mfinally\u001B[39;00m:\n\u001B[1;32m    124\u001B[0m     \u001B[38;5;28;01mdel\u001B[39;00m filtered_tb\n",
      "File \u001B[0;32m~/project/til/.venv/lib/python3.10/site-packages/optree/ops.py:594\u001B[0m, in \u001B[0;36mtree_map\u001B[0;34m(func, tree, is_leaf, none_is_leaf, namespace, *rests)\u001B[0m\n\u001B[1;32m    592\u001B[0m leaves, treespec \u001B[38;5;241m=\u001B[39m _C\u001B[38;5;241m.\u001B[39mflatten(tree, is_leaf, none_is_leaf, namespace)\n\u001B[1;32m    593\u001B[0m flat_args \u001B[38;5;241m=\u001B[39m [leaves] \u001B[38;5;241m+\u001B[39m [treespec\u001B[38;5;241m.\u001B[39mflatten_up_to(r) \u001B[38;5;28;01mfor\u001B[39;00m r \u001B[38;5;129;01min\u001B[39;00m rests]\n\u001B[0;32m--> 594\u001B[0m \u001B[38;5;28;01mreturn\u001B[39;00m \u001B[43mtreespec\u001B[49m\u001B[38;5;241;43m.\u001B[39;49m\u001B[43munflatten\u001B[49m\u001B[43m(\u001B[49m\u001B[38;5;28;43mmap\u001B[39;49m\u001B[43m(\u001B[49m\u001B[43mfunc\u001B[49m\u001B[43m,\u001B[49m\u001B[43m \u001B[49m\u001B[38;5;241;43m*\u001B[39;49m\u001B[43mflat_args\u001B[49m\u001B[43m)\u001B[49m\u001B[43m)\u001B[49m\n",
      "File \u001B[0;32m~/project/til/.venv/lib/python3.10/site-packages/pandas/core/generic.py:6643\u001B[0m, in \u001B[0;36mNDFrame.astype\u001B[0;34m(self, dtype, copy, errors)\u001B[0m\n\u001B[1;32m   6637\u001B[0m     results \u001B[38;5;241m=\u001B[39m [\n\u001B[1;32m   6638\u001B[0m         ser\u001B[38;5;241m.\u001B[39mastype(dtype, copy\u001B[38;5;241m=\u001B[39mcopy, errors\u001B[38;5;241m=\u001B[39merrors) \u001B[38;5;28;01mfor\u001B[39;00m _, ser \u001B[38;5;129;01min\u001B[39;00m \u001B[38;5;28mself\u001B[39m\u001B[38;5;241m.\u001B[39mitems()\n\u001B[1;32m   6639\u001B[0m     ]\n\u001B[1;32m   6641\u001B[0m \u001B[38;5;28;01melse\u001B[39;00m:\n\u001B[1;32m   6642\u001B[0m     \u001B[38;5;66;03m# else, only a single dtype is given\u001B[39;00m\n\u001B[0;32m-> 6643\u001B[0m     new_data \u001B[38;5;241m=\u001B[39m \u001B[38;5;28;43mself\u001B[39;49m\u001B[38;5;241;43m.\u001B[39;49m\u001B[43m_mgr\u001B[49m\u001B[38;5;241;43m.\u001B[39;49m\u001B[43mastype\u001B[49m\u001B[43m(\u001B[49m\u001B[43mdtype\u001B[49m\u001B[38;5;241;43m=\u001B[39;49m\u001B[43mdtype\u001B[49m\u001B[43m,\u001B[49m\u001B[43m \u001B[49m\u001B[43mcopy\u001B[49m\u001B[38;5;241;43m=\u001B[39;49m\u001B[43mcopy\u001B[49m\u001B[43m,\u001B[49m\u001B[43m \u001B[49m\u001B[43merrors\u001B[49m\u001B[38;5;241;43m=\u001B[39;49m\u001B[43merrors\u001B[49m\u001B[43m)\u001B[49m\n\u001B[1;32m   6644\u001B[0m     res \u001B[38;5;241m=\u001B[39m \u001B[38;5;28mself\u001B[39m\u001B[38;5;241m.\u001B[39m_constructor_from_mgr(new_data, axes\u001B[38;5;241m=\u001B[39mnew_data\u001B[38;5;241m.\u001B[39maxes)\n\u001B[1;32m   6645\u001B[0m     \u001B[38;5;28;01mreturn\u001B[39;00m res\u001B[38;5;241m.\u001B[39m__finalize__(\u001B[38;5;28mself\u001B[39m, method\u001B[38;5;241m=\u001B[39m\u001B[38;5;124m\"\u001B[39m\u001B[38;5;124mastype\u001B[39m\u001B[38;5;124m\"\u001B[39m)\n",
      "File \u001B[0;32m~/project/til/.venv/lib/python3.10/site-packages/pandas/core/internals/managers.py:430\u001B[0m, in \u001B[0;36mBaseBlockManager.astype\u001B[0;34m(self, dtype, copy, errors)\u001B[0m\n\u001B[1;32m    427\u001B[0m \u001B[38;5;28;01melif\u001B[39;00m using_copy_on_write():\n\u001B[1;32m    428\u001B[0m     copy \u001B[38;5;241m=\u001B[39m \u001B[38;5;28;01mFalse\u001B[39;00m\n\u001B[0;32m--> 430\u001B[0m \u001B[38;5;28;01mreturn\u001B[39;00m \u001B[38;5;28;43mself\u001B[39;49m\u001B[38;5;241;43m.\u001B[39;49m\u001B[43mapply\u001B[49m\u001B[43m(\u001B[49m\n\u001B[1;32m    431\u001B[0m \u001B[43m    \u001B[49m\u001B[38;5;124;43m\"\u001B[39;49m\u001B[38;5;124;43mastype\u001B[39;49m\u001B[38;5;124;43m\"\u001B[39;49m\u001B[43m,\u001B[49m\n\u001B[1;32m    432\u001B[0m \u001B[43m    \u001B[49m\u001B[43mdtype\u001B[49m\u001B[38;5;241;43m=\u001B[39;49m\u001B[43mdtype\u001B[49m\u001B[43m,\u001B[49m\n\u001B[1;32m    433\u001B[0m \u001B[43m    \u001B[49m\u001B[43mcopy\u001B[49m\u001B[38;5;241;43m=\u001B[39;49m\u001B[43mcopy\u001B[49m\u001B[43m,\u001B[49m\n\u001B[1;32m    434\u001B[0m \u001B[43m    \u001B[49m\u001B[43merrors\u001B[49m\u001B[38;5;241;43m=\u001B[39;49m\u001B[43merrors\u001B[49m\u001B[43m,\u001B[49m\n\u001B[1;32m    435\u001B[0m \u001B[43m    \u001B[49m\u001B[43musing_cow\u001B[49m\u001B[38;5;241;43m=\u001B[39;49m\u001B[43musing_copy_on_write\u001B[49m\u001B[43m(\u001B[49m\u001B[43m)\u001B[49m\u001B[43m,\u001B[49m\n\u001B[1;32m    436\u001B[0m \u001B[43m\u001B[49m\u001B[43m)\u001B[49m\n",
      "File \u001B[0;32m~/project/til/.venv/lib/python3.10/site-packages/pandas/core/internals/managers.py:363\u001B[0m, in \u001B[0;36mBaseBlockManager.apply\u001B[0;34m(self, f, align_keys, **kwargs)\u001B[0m\n\u001B[1;32m    361\u001B[0m         applied \u001B[38;5;241m=\u001B[39m b\u001B[38;5;241m.\u001B[39mapply(f, \u001B[38;5;241m*\u001B[39m\u001B[38;5;241m*\u001B[39mkwargs)\n\u001B[1;32m    362\u001B[0m     \u001B[38;5;28;01melse\u001B[39;00m:\n\u001B[0;32m--> 363\u001B[0m         applied \u001B[38;5;241m=\u001B[39m \u001B[38;5;28;43mgetattr\u001B[39;49m\u001B[43m(\u001B[49m\u001B[43mb\u001B[49m\u001B[43m,\u001B[49m\u001B[43m \u001B[49m\u001B[43mf\u001B[49m\u001B[43m)\u001B[49m\u001B[43m(\u001B[49m\u001B[38;5;241;43m*\u001B[39;49m\u001B[38;5;241;43m*\u001B[39;49m\u001B[43mkwargs\u001B[49m\u001B[43m)\u001B[49m\n\u001B[1;32m    364\u001B[0m     result_blocks \u001B[38;5;241m=\u001B[39m extend_blocks(applied, result_blocks)\n\u001B[1;32m    366\u001B[0m out \u001B[38;5;241m=\u001B[39m \u001B[38;5;28mtype\u001B[39m(\u001B[38;5;28mself\u001B[39m)\u001B[38;5;241m.\u001B[39mfrom_blocks(result_blocks, \u001B[38;5;28mself\u001B[39m\u001B[38;5;241m.\u001B[39maxes)\n",
      "File \u001B[0;32m~/project/til/.venv/lib/python3.10/site-packages/pandas/core/internals/blocks.py:758\u001B[0m, in \u001B[0;36mBlock.astype\u001B[0;34m(self, dtype, copy, errors, using_cow, squeeze)\u001B[0m\n\u001B[1;32m    755\u001B[0m         \u001B[38;5;28;01mraise\u001B[39;00m \u001B[38;5;167;01mValueError\u001B[39;00m(\u001B[38;5;124m\"\u001B[39m\u001B[38;5;124mCan not squeeze with more than one column.\u001B[39m\u001B[38;5;124m\"\u001B[39m)\n\u001B[1;32m    756\u001B[0m     values \u001B[38;5;241m=\u001B[39m values[\u001B[38;5;241m0\u001B[39m, :]  \u001B[38;5;66;03m# type: ignore[call-overload]\u001B[39;00m\n\u001B[0;32m--> 758\u001B[0m new_values \u001B[38;5;241m=\u001B[39m \u001B[43mastype_array_safe\u001B[49m\u001B[43m(\u001B[49m\u001B[43mvalues\u001B[49m\u001B[43m,\u001B[49m\u001B[43m \u001B[49m\u001B[43mdtype\u001B[49m\u001B[43m,\u001B[49m\u001B[43m \u001B[49m\u001B[43mcopy\u001B[49m\u001B[38;5;241;43m=\u001B[39;49m\u001B[43mcopy\u001B[49m\u001B[43m,\u001B[49m\u001B[43m \u001B[49m\u001B[43merrors\u001B[49m\u001B[38;5;241;43m=\u001B[39;49m\u001B[43merrors\u001B[49m\u001B[43m)\u001B[49m\n\u001B[1;32m    760\u001B[0m new_values \u001B[38;5;241m=\u001B[39m maybe_coerce_values(new_values)\n\u001B[1;32m    762\u001B[0m refs \u001B[38;5;241m=\u001B[39m \u001B[38;5;28;01mNone\u001B[39;00m\n",
      "File \u001B[0;32m~/project/til/.venv/lib/python3.10/site-packages/pandas/core/dtypes/astype.py:237\u001B[0m, in \u001B[0;36mastype_array_safe\u001B[0;34m(values, dtype, copy, errors)\u001B[0m\n\u001B[1;32m    234\u001B[0m     dtype \u001B[38;5;241m=\u001B[39m dtype\u001B[38;5;241m.\u001B[39mnumpy_dtype\n\u001B[1;32m    236\u001B[0m \u001B[38;5;28;01mtry\u001B[39;00m:\n\u001B[0;32m--> 237\u001B[0m     new_values \u001B[38;5;241m=\u001B[39m astype_array(values, dtype, copy\u001B[38;5;241m=\u001B[39mcopy)\n\u001B[1;32m    238\u001B[0m \u001B[38;5;28;01mexcept\u001B[39;00m (\u001B[38;5;167;01mValueError\u001B[39;00m, \u001B[38;5;167;01mTypeError\u001B[39;00m):\n\u001B[1;32m    239\u001B[0m     \u001B[38;5;66;03m# e.g. _astype_nansafe can fail on object-dtype of strings\u001B[39;00m\n\u001B[1;32m    240\u001B[0m     \u001B[38;5;66;03m#  trying to convert to float\u001B[39;00m\n\u001B[1;32m    241\u001B[0m     \u001B[38;5;28;01mif\u001B[39;00m errors \u001B[38;5;241m==\u001B[39m \u001B[38;5;124m\"\u001B[39m\u001B[38;5;124mignore\u001B[39m\u001B[38;5;124m\"\u001B[39m:\n",
      "File \u001B[0;32m~/project/til/.venv/lib/python3.10/site-packages/pandas/core/dtypes/astype.py:182\u001B[0m, in \u001B[0;36mastype_array\u001B[0;34m(values, dtype, copy)\u001B[0m\n\u001B[1;32m    179\u001B[0m     values \u001B[38;5;241m=\u001B[39m values\u001B[38;5;241m.\u001B[39mastype(dtype, copy\u001B[38;5;241m=\u001B[39mcopy)\n\u001B[1;32m    181\u001B[0m \u001B[38;5;28;01melse\u001B[39;00m:\n\u001B[0;32m--> 182\u001B[0m     values \u001B[38;5;241m=\u001B[39m \u001B[43m_astype_nansafe\u001B[49m\u001B[43m(\u001B[49m\u001B[43mvalues\u001B[49m\u001B[43m,\u001B[49m\u001B[43m \u001B[49m\u001B[43mdtype\u001B[49m\u001B[43m,\u001B[49m\u001B[43m \u001B[49m\u001B[43mcopy\u001B[49m\u001B[38;5;241;43m=\u001B[39;49m\u001B[43mcopy\u001B[49m\u001B[43m)\u001B[49m\n\u001B[1;32m    184\u001B[0m \u001B[38;5;66;03m# in pandas we don't store numpy str dtypes, so convert to object\u001B[39;00m\n\u001B[1;32m    185\u001B[0m \u001B[38;5;28;01mif\u001B[39;00m \u001B[38;5;28misinstance\u001B[39m(dtype, np\u001B[38;5;241m.\u001B[39mdtype) \u001B[38;5;129;01mand\u001B[39;00m \u001B[38;5;28missubclass\u001B[39m(values\u001B[38;5;241m.\u001B[39mdtype\u001B[38;5;241m.\u001B[39mtype, \u001B[38;5;28mstr\u001B[39m):\n",
      "File \u001B[0;32m~/project/til/.venv/lib/python3.10/site-packages/pandas/core/dtypes/astype.py:133\u001B[0m, in \u001B[0;36m_astype_nansafe\u001B[0;34m(arr, dtype, copy, skipna)\u001B[0m\n\u001B[1;32m    129\u001B[0m     \u001B[38;5;28;01mraise\u001B[39;00m \u001B[38;5;167;01mValueError\u001B[39;00m(msg)\n\u001B[1;32m    131\u001B[0m \u001B[38;5;28;01mif\u001B[39;00m copy \u001B[38;5;129;01mor\u001B[39;00m arr\u001B[38;5;241m.\u001B[39mdtype \u001B[38;5;241m==\u001B[39m \u001B[38;5;28mobject\u001B[39m \u001B[38;5;129;01mor\u001B[39;00m dtype \u001B[38;5;241m==\u001B[39m \u001B[38;5;28mobject\u001B[39m:\n\u001B[1;32m    132\u001B[0m     \u001B[38;5;66;03m# Explicit copy, or required since NumPy can't view from / to object.\u001B[39;00m\n\u001B[0;32m--> 133\u001B[0m     \u001B[38;5;28;01mreturn\u001B[39;00m \u001B[43marr\u001B[49m\u001B[38;5;241;43m.\u001B[39;49m\u001B[43mastype\u001B[49m\u001B[43m(\u001B[49m\u001B[43mdtype\u001B[49m\u001B[43m,\u001B[49m\u001B[43m \u001B[49m\u001B[43mcopy\u001B[49m\u001B[38;5;241;43m=\u001B[39;49m\u001B[38;5;28;43;01mTrue\u001B[39;49;00m\u001B[43m)\u001B[49m\n\u001B[1;32m    135\u001B[0m \u001B[38;5;28;01mreturn\u001B[39;00m arr\u001B[38;5;241m.\u001B[39mastype(dtype, copy\u001B[38;5;241m=\u001B[39mcopy)\n",
      "\u001B[0;31mValueError\u001B[0m: could not convert string to float: 'Torso Back Top Third'"
     ]
    }
   ],
   "execution_count": 26
  },
  {
   "cell_type": "code",
   "id": "79fa3088",
   "metadata": {
    "execution": {
     "iopub.execute_input": "2024-07-04T01:41:13.476396Z",
     "iopub.status.busy": "2024-07-04T01:41:13.475943Z",
     "iopub.status.idle": "2024-07-04T01:41:13.510801Z",
     "shell.execute_reply": "2024-07-04T01:41:13.509807Z"
    },
    "papermill": {
     "duration": 0.045242,
     "end_time": "2024-07-04T01:41:13.512944",
     "exception": false,
     "start_time": "2024-07-04T01:41:13.467702",
     "status": "completed"
    },
    "tags": []
   },
   "source": [
    "df_sub = pd.read_csv(f\"{base_path}/sample_submission.csv\")\n",
    "df_sub[\"target\"] = preds\n",
    "df_sub"
   ],
   "outputs": [],
   "execution_count": null
  },
  {
   "cell_type": "code",
   "id": "78083165",
   "metadata": {
    "execution": {
     "iopub.execute_input": "2024-07-04T01:41:13.529134Z",
     "iopub.status.busy": "2024-07-04T01:41:13.528725Z",
     "iopub.status.idle": "2024-07-04T01:41:13.536566Z",
     "shell.execute_reply": "2024-07-04T01:41:13.535426Z"
    },
    "papermill": {
     "duration": 0.018857,
     "end_time": "2024-07-04T01:41:13.539166",
     "exception": false,
     "start_time": "2024-07-04T01:41:13.520309",
     "status": "completed"
    },
    "tags": []
   },
   "source": [
    "df_sub.to_csv(\"submission.csv\", index=False)"
   ],
   "outputs": [],
   "execution_count": null
  },
  {
   "metadata": {},
   "cell_type": "code",
   "outputs": [],
   "execution_count": null,
   "source": "",
   "id": "6b4011561ede1de3"
  }
 ],
 "metadata": {
  "kaggle": {
   "accelerator": "none",
   "dataSources": [
    {
     "databundleVersionId": 8940774,
     "sourceId": 63056,
     "sourceType": "competition"
    }
   ],
   "dockerImageVersionId": 30732,
   "isGpuEnabled": false,
   "isInternetEnabled": false,
   "language": "python",
   "sourceType": "notebook"
  },
  "kernelspec": {
   "display_name": "Python 3",
   "language": "python",
   "name": "python3"
  },
  "language_info": {
   "codemirror_mode": {
    "name": "ipython",
    "version": 3
   },
   "file_extension": ".py",
   "mimetype": "text/x-python",
   "name": "python",
   "nbconvert_exporter": "python",
   "pygments_lexer": "ipython3",
   "version": "3.10.13"
  },
  "papermill": {
   "default_parameters": {},
   "duration": 472.392403,
   "end_time": "2024-07-04T01:41:14.282170",
   "environment_variables": {},
   "exception": null,
   "input_path": "__notebook__.ipynb",
   "output_path": "__notebook__.ipynb",
   "parameters": {},
   "start_time": "2024-07-04T01:33:21.889767",
   "version": "2.5.0"
  }
 },
 "nbformat": 4,
 "nbformat_minor": 5
}
