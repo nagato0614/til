{
 "cells": [
  {
   "cell_type": "code",
   "id": "f55a1f5d",
   "metadata": {
    "execution": {
     "iopub.execute_input": "2024-07-04T01:33:24.512870Z",
     "iopub.status.busy": "2024-07-04T01:33:24.512507Z",
     "iopub.status.idle": "2024-07-04T01:33:27.489575Z",
     "shell.execute_reply": "2024-07-04T01:33:27.488544Z"
    },
    "papermill": {
     "duration": 2.985316,
     "end_time": "2024-07-04T01:33:27.492098",
     "exception": false,
     "start_time": "2024-07-04T01:33:24.506782",
     "status": "completed"
    },
    "tags": [],
    "ExecuteTime": {
     "end_time": "2024-07-24T12:40:35.632094Z",
     "start_time": "2024-07-24T12:40:34.762620Z"
    }
   },
   "source": [
    "import numpy as np\n",
    "import pandas as pd\n",
    "import pandas.api.types\n",
    "import matplotlib.pyplot as plt\n",
    "from sklearn.preprocessing import OrdinalEncoder\n",
    "from sklearn.metrics import roc_curve, auc, roc_auc_score\n",
    "from sklearn.model_selection import GroupKFold, StratifiedGroupKFold\n",
    "import xgboost as xgb\n",
    "import lightgbm as lgb"
   ],
   "outputs": [],
   "execution_count": 1
  },
  {
   "cell_type": "code",
   "id": "340abbad",
   "metadata": {
    "execution": {
     "iopub.execute_input": "2024-07-04T01:33:27.502328Z",
     "iopub.status.busy": "2024-07-04T01:33:27.501731Z",
     "iopub.status.idle": "2024-07-04T01:33:35.629077Z",
     "shell.execute_reply": "2024-07-04T01:33:35.627690Z"
    },
    "papermill": {
     "duration": 8.13536,
     "end_time": "2024-07-04T01:33:35.631717",
     "exception": false,
     "start_time": "2024-07-04T01:33:27.496357",
     "status": "completed"
    },
    "tags": [],
    "ExecuteTime": {
     "end_time": "2024-07-24T12:40:37.953034Z",
     "start_time": "2024-07-24T12:40:35.633141Z"
    }
   },
   "source": [
    "N_FOLDS = 5\n",
    "base_path = \"/Users/toru/PycharmProjects/isic-2024-challenge\"\n",
    "df_train = pd.read_csv(f\"{base_path}/train-metadata.csv\")\n",
    "df_test = pd.read_csv(f\"{base_path}/test-metadata.csv\")\n",
    "\n",
    "\n",
    "def feature_engineering(df):\n",
    "    df[\"lesion_size_ratio\"] = df[\"tbp_lv_minorAxisMM\"] / df[\"clin_size_long_diam_mm\"]\n",
    "    df[\"lesion_shape_index\"] = df[\"tbp_lv_areaMM2\"] / (df[\"tbp_lv_perimeterMM\"] ** 2)\n",
    "    df[\"hue_contrast\"] = (df[\"tbp_lv_H\"] - df[\"tbp_lv_Hext\"]).abs()\n",
    "    df[\"luminance_contrast\"] = (df[\"tbp_lv_L\"] - df[\"tbp_lv_Lext\"]).abs()\n",
    "    df[\"lesion_color_difference\"] = np.sqrt(\n",
    "        df[\"tbp_lv_deltaA\"] ** 2 + df[\"tbp_lv_deltaB\"] ** 2 + df[\"tbp_lv_deltaL\"] ** 2)\n",
    "    df[\"border_complexity\"] = df[\"tbp_lv_norm_border\"] + df[\"tbp_lv_symm_2axis\"]\n",
    "    df[\"color_uniformity\"] = df[\"tbp_lv_color_std_mean\"] / df[\"tbp_lv_radial_color_std_max\"]\n",
    "    df[\"3d_position_distance\"] = np.sqrt(\n",
    "        df[\"tbp_lv_x\"] ** 2 + df[\"tbp_lv_y\"] ** 2 + df[\"tbp_lv_z\"] ** 2)\n",
    "    df[\"perimeter_to_area_ratio\"] = df[\"tbp_lv_perimeterMM\"] / df[\"tbp_lv_areaMM2\"]\n",
    "    df[\"lesion_visibility_score\"] = df[\"tbp_lv_deltaLBnorm\"] + df[\"tbp_lv_norm_color\"]\n",
    "    df[\"combined_anatomical_site\"] = df[\"anatom_site_general\"] + \"_\" + df[\"tbp_lv_location\"]\n",
    "    df[\"symmetry_border_consistency\"] = df[\"tbp_lv_symm_2axis\"] * df[\"tbp_lv_norm_border\"]\n",
    "    df[\"color_consistency\"] = df[\"tbp_lv_stdL\"] / df[\"tbp_lv_Lext\"]\n",
    "    df[\"size_age_interaction\"] = df[\"clin_size_long_diam_mm\"] * df[\"age_approx\"]\n",
    "    df[\"hue_color_std_interaction\"] = df[\"tbp_lv_H\"] * df[\"tbp_lv_color_std_mean\"]\n",
    "    df[\"lesion_severity_index\"] = (df[\"tbp_lv_norm_border\"] + df[\"tbp_lv_norm_color\"] + df[\n",
    "        \"tbp_lv_eccentricity\"]) / 3\n",
    "    df[\"shape_complexity_index\"] = df[\"border_complexity\"] + df[\"lesion_shape_index\"]\n",
    "    df[\"color_contrast_index\"] = df[\"tbp_lv_deltaA\"] + df[\"tbp_lv_deltaB\"] + df[\"tbp_lv_deltaL\"] + \\\n",
    "                                 df[\"tbp_lv_deltaLBnorm\"]\n",
    "    df[\"log_lesion_area\"] = np.log(df[\"tbp_lv_areaMM2\"] + 1)\n",
    "    df[\"normalized_lesion_size\"] = df[\"clin_size_long_diam_mm\"] / df[\"age_approx\"]\n",
    "    df[\"mean_hue_difference\"] = (df[\"tbp_lv_H\"] + df[\"tbp_lv_Hext\"]) / 2\n",
    "    df[\"std_dev_contrast\"] = np.sqrt(\n",
    "        (df[\"tbp_lv_deltaA\"] ** 2 + df[\"tbp_lv_deltaB\"] ** 2 + df[\"tbp_lv_deltaL\"] ** 2) / 3)\n",
    "    df[\"color_shape_composite_index\"] = (df[\"tbp_lv_color_std_mean\"] + df[\n",
    "        \"tbp_lv_area_perim_ratio\"] + df[\"tbp_lv_symm_2axis\"]) / 3\n",
    "    df[\"3d_lesion_orientation\"] = np.arctan2(df_train[\"tbp_lv_y\"], df_train[\"tbp_lv_x\"])\n",
    "    df[\"overall_color_difference\"] = (df[\"tbp_lv_deltaA\"] + df[\"tbp_lv_deltaB\"] + df[\n",
    "        \"tbp_lv_deltaL\"]) / 3\n",
    "    df[\"symmetry_perimeter_interaction\"] = df[\"tbp_lv_symm_2axis\"] * df[\"tbp_lv_perimeterMM\"]\n",
    "    df[\"comprehensive_lesion_index\"] = (df[\"tbp_lv_area_perim_ratio\"] + df[\"tbp_lv_eccentricity\"] +\n",
    "                                        df[\"tbp_lv_norm_color\"] + df[\"tbp_lv_symm_2axis\"]) / 4\n",
    "    df[\"color_variance_ratio\"] = df[\"tbp_lv_color_std_mean\"] / df[\"tbp_lv_stdLExt\"]\n",
    "    df[\"border_color_interaction\"] = df[\"tbp_lv_norm_border\"] * df[\"tbp_lv_norm_color\"]\n",
    "    df[\"size_color_contrast_ratio\"] = df[\"clin_size_long_diam_mm\"] / df[\"tbp_lv_deltaLBnorm\"]\n",
    "    df[\"age_normalized_nevi_confidence\"] = df[\"tbp_lv_nevi_confidence\"] / df[\"age_approx\"]\n",
    "    df[\"color_asymmetry_index\"] = df[\"tbp_lv_radial_color_std_max\"] * df[\"tbp_lv_symm_2axis\"]\n",
    "    df[\"3d_volume_approximation\"] = df[\"tbp_lv_areaMM2\"] * np.sqrt(\n",
    "        df[\"tbp_lv_x\"] ** 2 + df[\"tbp_lv_y\"] ** 2 + df[\"tbp_lv_z\"] ** 2)\n",
    "    df[\"color_range\"] = (df[\"tbp_lv_L\"] - df[\"tbp_lv_Lext\"]).abs() + (\n",
    "            df[\"tbp_lv_A\"] - df[\"tbp_lv_Aext\"]).abs() + (\n",
    "                                df[\"tbp_lv_B\"] - df[\"tbp_lv_Bext\"]).abs()\n",
    "    df[\"shape_color_consistency\"] = df[\"tbp_lv_eccentricity\"] * df[\"tbp_lv_color_std_mean\"]\n",
    "    df[\"border_length_ratio\"] = df[\"tbp_lv_perimeterMM\"] / (\n",
    "            2 * np.pi * np.sqrt(df[\"tbp_lv_areaMM2\"] / np.pi))\n",
    "    df[\"age_size_symmetry_index\"] = df[\"age_approx\"] * df[\"clin_size_long_diam_mm\"] * df[\n",
    "        \"tbp_lv_symm_2axis\"]\n",
    "\n",
    "    # 病変の色の標準偏差と年齢の関係\n",
    "    df[\"color_age_interaction\"] = df[\"tbp_lv_color_std_mean\"] * df[\"age_approx\"]\n",
    "\n",
    "    # 病変の面積と年齢の関係\n",
    "    df['area_age_interaction'] = df['tbp_lv_areaMM2'] * df['age_approx']\n",
    "\n",
    "    # ネビス信頼度を面積で正規化\n",
    "    df['nevi_confidence_area'] = df['tbp_lv_nevi_confidence'] / df['tbp_lv_areaMM2']\n",
    "\n",
    "    # ネビス信頼度を色不規則性で割ったもの\n",
    "    df['nevi_confidence_color'] = df['tbp_lv_nevi_confidence'] / df['tbp_lv_color_std_mean']\n",
    "\n",
    "    # 病変の体積\n",
    "    df['tbp_lv_areaMM3'] = df['3d_position_distance'] * df['tbp_lv_areaMM2']\n",
    "\n",
    "    new_num_cols = [\n",
    "        \"lesion_size_ratio\", \"lesion_shape_index\", \"hue_contrast\",\n",
    "        \"luminance_contrast\",\n",
    "        \"lesion_color_difference\", \"border_complexity\",\n",
    "        \"color_uniformity\", \"3d_position_distance\", \"perimeter_to_area_ratio\",\n",
    "        \"lesion_visibility_score\", \"symmetry_border_consistency\", \"color_consistency\",\n",
    "        \"size_age_interaction\",\n",
    "        \"hue_color_std_interaction\",\n",
    "        \"lesion_severity_index\",\n",
    "        \"shape_complexity_index\", \"color_contrast_index\", \"log_lesion_area\",\n",
    "        \"normalized_lesion_size\", \"mean_hue_difference\", \"std_dev_contrast\",\n",
    "        \"color_shape_composite_index\", \"3d_lesion_orientation\", \"overall_color_difference\",\n",
    "        \"symmetry_perimeter_interaction\", \"comprehensive_lesion_index\", \"color_age_interaction\",\n",
    "        \"area_age_interaction\", \"color_variance_ratio\", \"border_color_interaction\",\n",
    "        \"size_color_contrast_ratio\",\n",
    "        \"age_normalized_nevi_confidence\", \"color_asymmetry_index\", \"3d_volume_approximation\",\n",
    "        \"color_range\", \"shape_color_consistency\", \"border_length_ratio\",\n",
    "        \"age_size_symmetry_index\", \"nevi_confidence_area\", \"nevi_confidence_color\", \"tbp_lv_areaMM3\"\n",
    "    ]\n",
    "    new_cat_cols = [\"combined_anatomical_site\"]\n",
    "\n",
    "    return df, new_num_cols, new_cat_cols\n",
    "\n",
    "\n",
    "df_train, new_num_cols, new_cat_cols = feature_engineering(df_train.copy())\n",
    "df_test, _, _ = feature_engineering(df_test.copy())\n",
    "\n",
    "num_cols = [\n",
    "               'age_approx', 'clin_size_long_diam_mm', 'tbp_lv_A', 'tbp_lv_Aext', 'tbp_lv_B',\n",
    "               'tbp_lv_Bext',\n",
    "               'tbp_lv_C', 'tbp_lv_Cext', 'tbp_lv_H', 'tbp_lv_Hext', 'tbp_lv_L',\n",
    "               'tbp_lv_Lext', 'tbp_lv_areaMM2', 'tbp_lv_area_perim_ratio', 'tbp_lv_color_std_mean',\n",
    "               'tbp_lv_deltaA', 'tbp_lv_deltaB', 'tbp_lv_deltaL', 'tbp_lv_deltaLB',\n",
    "               'tbp_lv_deltaLBnorm', 'tbp_lv_eccentricity', 'tbp_lv_minorAxisMM',\n",
    "               'tbp_lv_nevi_confidence', 'tbp_lv_norm_border', 'tbp_lv_norm_color',\n",
    "               'tbp_lv_perimeterMM', 'tbp_lv_radial_color_std_max', 'tbp_lv_stdL',\n",
    "               'tbp_lv_stdLExt', 'tbp_lv_symm_2axis', 'tbp_lv_symm_2axis_angle',\n",
    "               'tbp_lv_x', 'tbp_lv_y', 'tbp_lv_z',\n",
    "           ] + new_num_cols\n",
    "# anatom_site_general\n",
    "cat_cols = [\"sex\", \"tbp_tile_type\", \"tbp_lv_location\", \"tbp_lv_location_simple\"] + new_cat_cols\n",
    "train_cols = num_cols + cat_cols\n",
    "\n",
    "# 削除する特徴量\n",
    "remove_cols = [\n",
    "    \"hue_color_std_interaction\",\n",
    "    \"luminance_contrast\",\n",
    "    \"tbp_lv_norm_color\",\n",
    "    \"tbp_lv_color_std_mean\",\n",
    "    \"std_dev_contrast\",\n",
    "    \"sex\",\n",
    "    \"border_length_ratio\",\n",
    "    \"tbp_tile_type\",\n",
    "    \"tbp_lv_location_simple\",\n",
    "    \"log_lesion_area\",\n",
    "    \"comprehensive_lesion_index\",\n",
    "    \"symmetry_perimeter_interaction\",\n",
    "    \"combined_anatomical_site\",\n",
    "    \"shape_complexity_index\",\n",
    "    \"color_shape_composite_index\",\n",
    "    \"tbp_lv_areaMM2\",\n",
    "    \"lesion_shape_index\",\n",
    "    \"tbp_lv_area_perim_ratio\",\n",
    "    \"border_color_interaction\",\n",
    "    \"shape_color_consistency\",\n",
    "]\n",
    "\n",
    "category_encoder = OrdinalEncoder(\n",
    "    categories='auto',\n",
    "    dtype=int,\n",
    "    handle_unknown='use_encoded_value',\n",
    "    unknown_value=-2,\n",
    "    encoded_missing_value=-1,\n",
    ")\n",
    "\n",
    "X_cat = category_encoder.fit_transform(df_train[cat_cols])\n",
    "for c, cat_col in enumerate(cat_cols):\n",
    "    df_train[cat_col] = X_cat[:, c]\n",
    "\n",
    "# 特徴量を一部削除する\n",
    "# 削除する特徴量\n",
    "remove_cols = [\n",
    "    \"hue_color_std_interaction\",\n",
    "    \"luminance_contrast\",\n",
    "    \"tbp_lv_norm_color\",\n",
    "    \"tbp_lv_color_std_mean\",\n",
    "    \"std_dev_contrast\",\n",
    "    \"sex\",\n",
    "    \"border_length_ratio\",\n",
    "    \"tbp_tile_type\",\n",
    "    \"tbp_lv_location_simple\",\n",
    "    \"log_lesion_area\",\n",
    "\n",
    "]\n",
    "\n",
    "df_train = df_train.drop(remove_cols, axis=1)\n",
    "df_test = df_test.drop(remove_cols, axis=1)\n",
    "\n",
    "# train_cols からも削除する\n",
    "for col in remove_cols:\n",
    "    if col in train_cols:\n",
    "        train_cols.remove(col)\n",
    "\n",
    "# cat_cols からも削除する\n",
    "for col in remove_cols:\n",
    "    if col in cat_cols:\n",
    "        cat_cols.remove(col)"
   ],
   "outputs": [
    {
     "name": "stderr",
     "output_type": "stream",
     "text": [
      "/var/folders/1j/s9068l9s3pl56py3mj3r1wkh0000gn/T/ipykernel_18446/141428101.py:3: DtypeWarning: Columns (51,52) have mixed types. Specify dtype option on import or set low_memory=False.\n",
      "  df_train = pd.read_csv(f\"{base_path}/train-metadata.csv\")\n"
     ]
    }
   ],
   "execution_count": 2
  },
  {
   "cell_type": "code",
   "id": "26149aaa",
   "metadata": {
    "execution": {
     "iopub.execute_input": "2024-07-04T01:33:35.641699Z",
     "iopub.status.busy": "2024-07-04T01:33:35.640747Z",
     "iopub.status.idle": "2024-07-04T01:33:36.170859Z",
     "shell.execute_reply": "2024-07-04T01:33:36.169897Z"
    },
    "papermill": {
     "duration": 0.537754,
     "end_time": "2024-07-04T01:33:36.173478",
     "exception": false,
     "start_time": "2024-07-04T01:33:35.635724",
     "status": "completed"
    },
    "tags": [],
    "ExecuteTime": {
     "end_time": "2024-07-24T12:40:38.163157Z",
     "start_time": "2024-07-24T12:40:37.953677Z"
    }
   },
   "source": [
    "gkf = GroupKFold(n_splits=N_FOLDS)  # , shuffle=True, random_state=42\n",
    "\n",
    "df_train[\"fold\"] = -1\n",
    "for idx, (train_idx, val_idx) in enumerate(\n",
    "        gkf.split(df_train, df_train[\"target\"], groups=df_train[\"patient_id\"])):\n",
    "    df_train.loc[val_idx, \"fold\"] = idx"
   ],
   "outputs": [],
   "execution_count": 3
  },
  {
   "cell_type": "code",
   "id": "7c5a73f3",
   "metadata": {
    "execution": {
     "iopub.execute_input": "2024-07-04T01:33:36.183583Z",
     "iopub.status.busy": "2024-07-04T01:33:36.182667Z",
     "iopub.status.idle": "2024-07-04T01:41:12.522773Z",
     "shell.execute_reply": "2024-07-04T01:41:12.521606Z"
    },
    "papermill": {
     "duration": 456.351754,
     "end_time": "2024-07-04T01:41:12.529318",
     "exception": false,
     "start_time": "2024-07-04T01:33:36.177564",
     "status": "completed"
    },
    "tags": [],
    "ExecuteTime": {
     "end_time": "2024-07-24T12:42:00.338106Z",
     "start_time": "2024-07-24T12:40:38.164626Z"
    }
   },
   "source": [
    "def comp_score(solution: pd.DataFrame, submission: pd.DataFrame, row_id_column_name: str,\n",
    "               min_tpr: float = 0.80):\n",
    "    v_gt = abs(np.asarray(solution.values) - 1)\n",
    "    v_pred = np.array([1.0 - x for x in submission.values])\n",
    "    max_fpr = abs(1 - min_tpr)\n",
    "    partial_auc_scaled = roc_auc_score(v_gt, v_pred, max_fpr=max_fpr)\n",
    "    # change scale from [0.5, 1.0] to [0.5 * max_fpr**2, max_fpr]\n",
    "    # https://math.stackexchange.com/questions/914823/shift-numbers-into-a-different-range\n",
    "    partial_auc = 0.5 * max_fpr ** 2 + (max_fpr - 0.5 * max_fpr ** 2) / (1.0 - 0.5) * (\n",
    "            partial_auc_scaled - 0.5)\n",
    "    return partial_auc\n",
    "\n",
    "\n",
    "import random\n",
    "\n",
    "__n_estimators = random.choice([1400, 1500, 2000])  # 800,900,1000,1100,1200,1300,\n",
    "__learning_rate = random.choice([0.003, 0.002, 0.001])  # 0.005,0.004,\n",
    "__lambda_l1 = random.choice([0.14, 0.21, 0.27, 0.37])\n",
    "__lambda_l2 = random.choice([0.7, 1.0, 1.47, 1.77, 2.77])\n",
    "__pos_bagging_fraction = random.choice([0.74, 0.75, 0.77, 0.777])\n",
    "__neg_bagging_fraction = random.choice([0.04, 0.05, 0.07, 0.077])\n",
    "__feature_fraction = random.choice([0.5, 0.54, 0.57, 0.7, 0.77, 0.777])\n",
    "__num_leaves = random.choice([16, 20, 24, 30, 33, 37])  # 24,30,31,32,33,37\n",
    "__min_data_in_leaf = random.choice([16, 20, 24, 40, 50, 57])  # 40,45,50,55,57\n",
    "\n",
    "lgb_params = {\n",
    "    'objective': 'binary',\n",
    "    \"random_state\": 42,\n",
    "    \"n_estimators\": __n_estimators,\n",
    "    'learning_rate': __learning_rate,\n",
    "    'num_leaves': __num_leaves,\n",
    "    'min_data_in_leaf': __min_data_in_leaf,\n",
    "    'bagging_freq': 1,\n",
    "    'pos_bagging_fraction': __pos_bagging_fraction,\n",
    "    'neg_bagging_fraction': __neg_bagging_fraction,\n",
    "    'feature_fraction': __feature_fraction,\n",
    "    'lambda_l1': __lambda_l1,\n",
    "    'lambda_l2': __lambda_l2,\n",
    "    \"verbosity\": -1,\n",
    "    # \"extra_trees\": True\n",
    "}\n",
    "\n",
    "print('\\n',\n",
    "      __n_estimators,\n",
    "      __learning_rate,\n",
    "      __lambda_l1,\n",
    "      __lambda_l2,\n",
    "      __pos_bagging_fraction,\n",
    "      __neg_bagging_fraction,\n",
    "      __feature_fraction,\n",
    "      __num_leaves,\n",
    "      __min_data_in_leaf,\n",
    "      '\\n')\n",
    "\n",
    "scores = []\n",
    "models = []\n",
    "for fold in range(N_FOLDS):\n",
    "    _df_train = df_train[df_train[\"fold\"] != fold].reset_index(drop=True)\n",
    "    _df_valid = df_train[df_train[\"fold\"] == fold].reset_index(drop=True)\n",
    "    \n",
    "    model = lgb.LGBMRegressor(**lgb_params)\n",
    "    model.fit(_df_train[train_cols], _df_train[\"target\"])\n",
    "    preds = model.predict(_df_valid[train_cols])\n",
    "    score = comp_score(_df_valid[[\"target\"]], pd.DataFrame(preds, columns=[\"prediction\"]), \"\")\n",
    "    print(f\"fold: {fold} - Partial AUC Score: {score:.5f}\")\n",
    "    \n",
    "    \n",
    "    scores.append(score)\n",
    "    models.append(model)"
   ],
   "outputs": [
    {
     "name": "stdout",
     "output_type": "stream",
     "text": [
      "\n",
      " 2000 0.003 0.27 2.77 0.77 0.077 0.54 20 24 \n",
      "\n",
      "fold: 0 - Partial AUC Score: 0.16396\n",
      "fold: 1 - Partial AUC Score: 0.15701\n",
      "fold: 2 - Partial AUC Score: 0.15140\n",
      "fold: 3 - Partial AUC Score: 0.15663\n",
      "fold: 4 - Partial AUC Score: 0.15891\n"
     ]
    }
   ],
   "execution_count": 4
  },
  {
   "metadata": {
    "ExecuteTime": {
     "end_time": "2024-07-24T12:42:00.341046Z",
     "start_time": "2024-07-24T12:42:00.339036Z"
    }
   },
   "cell_type": "code",
   "source": "print(f'スコアの平均: {np.mean(scores):.5f}')",
   "id": "502bceb98391b666",
   "outputs": [
    {
     "name": "stdout",
     "output_type": "stream",
     "text": [
      "スコアの平均: 0.15758\n"
     ]
    }
   ],
   "execution_count": 5
  },
  {
   "cell_type": "code",
   "id": "54d585ae",
   "metadata": {
    "execution": {
     "iopub.execute_input": "2024-07-04T01:41:12.559933Z",
     "iopub.status.busy": "2024-07-04T01:41:12.558715Z",
     "iopub.status.idle": "2024-07-04T01:41:12.570683Z",
     "shell.execute_reply": "2024-07-04T01:41:12.569559Z"
    },
    "papermill": {
     "duration": 0.020012,
     "end_time": "2024-07-04T01:41:12.573025",
     "exception": false,
     "start_time": "2024-07-04T01:41:12.553013",
     "status": "completed"
    },
    "tags": [],
    "ExecuteTime": {
     "end_time": "2024-07-24T12:42:00.346505Z",
     "start_time": "2024-07-24T12:42:00.341919Z"
    }
   },
   "source": [
    "importances = np.mean([model.feature_importances_ for model in models], 0)\n",
    "df_imp = pd.DataFrame({\"feature\": model.feature_name_, \"importance\": importances}).sort_values(\n",
    "    \"importance\").reset_index(drop=True)\n",
    "\n",
    "# 重要度を 0 ~ 1 の範囲に正規化\n",
    "df_imp[\"importance\"] = df_imp[\"importance\"] / df_imp[\"importance\"].max()"
   ],
   "outputs": [],
   "execution_count": 6
  },
  {
   "cell_type": "code",
   "id": "caa896b4",
   "metadata": {
    "execution": {
     "iopub.execute_input": "2024-07-04T01:41:12.583751Z",
     "iopub.status.busy": "2024-07-04T01:41:12.583351Z",
     "iopub.status.idle": "2024-07-04T01:41:13.340345Z",
     "shell.execute_reply": "2024-07-04T01:41:13.339323Z"
    },
    "papermill": {
     "duration": 0.765995,
     "end_time": "2024-07-04T01:41:13.343696",
     "exception": false,
     "start_time": "2024-07-04T01:41:12.577701",
     "status": "completed"
    },
    "tags": []
   },
   "source": [
    "plt.figure(figsize=(16, 12))\n",
    "plt.barh(df_imp[\"feature\"], df_imp[\"importance\"])\n",
    "plt.show()"
   ],
   "outputs": [],
   "execution_count": null
  },
  {
   "cell_type": "code",
   "id": "21887244",
   "metadata": {
    "execution": {
     "iopub.execute_input": "2024-07-04T01:41:13.360072Z",
     "iopub.status.busy": "2024-07-04T01:41:13.359689Z",
     "iopub.status.idle": "2024-07-04T01:41:13.385636Z",
     "shell.execute_reply": "2024-07-04T01:41:13.384392Z"
    },
    "papermill": {
     "duration": 0.037547,
     "end_time": "2024-07-04T01:41:13.388031",
     "exception": false,
     "start_time": "2024-07-04T01:41:13.350484",
     "status": "completed"
    },
    "tags": []
   },
   "source": [
    "# How does the new feature(s) perform?\n",
    "# I would go with the > 20 in the index.\n",
    "df_imp = df_imp.sort_values(\"importance\", ascending=False).reset_index(drop=True)"
   ],
   "outputs": [],
   "execution_count": null
  },
  {
   "metadata": {},
   "cell_type": "code",
   "source": [
    "# 特徴量の数\n",
    "feature_num = len(df_imp)\n",
    "print(f'特徴量の数: {feature_num}')\n",
    "\n",
    "# color_age_interaction\n",
    "print(f'## color_age_interaction')\n",
    "print(f'重要度 : {df_imp[df_imp[\"feature\"] == \"color_age_interaction\"].importance.values[0]:.5f}')\n",
    "print(\n",
    "    f'順位   : {df_imp[df_imp[\"feature\"] == \"color_age_interaction\"].index[0] + 1} / {feature_num}')\n",
    "\n",
    "# area_age_interaction\n",
    "print(f'## area_age_interaction')\n",
    "print(f'重要度 : {df_imp[df_imp[\"feature\"] == \"area_age_interaction\"].importance.values[0]:.5f}')\n",
    "print(\n",
    "    f'順位   : {df_imp[df_imp[\"feature\"] == \"area_age_interaction\"].index[0] + 1} / {feature_num}')\n",
    "\n",
    "# nevi_confidence_area\n",
    "print(f'## nevi_confidence_area')\n",
    "print(f'重要度 : {df_imp[df_imp[\"feature\"] == \"nevi_confidence_area\"].importance.values[0]:.5f}')\n",
    "print(\n",
    "    f'順位   : {df_imp[df_imp[\"feature\"] == \"nevi_confidence_area\"].index[0] + 1} / {feature_num}')\n",
    "\n",
    "# nevi_confidence_color\n",
    "print(f'## nevi_confidence_color')\n",
    "print(f'重要度 : {df_imp[df_imp[\"feature\"] == \"nevi_confidence_color\"].importance.values[0]:.5f}')\n",
    "print(\n",
    "    f'順位   : {df_imp[df_imp[\"feature\"] == \"nevi_confidence_color\"].index[0] + 1} / {feature_num}')\n"
   ],
   "id": "3ab3b066c5f12ed2",
   "outputs": [],
   "execution_count": null
  },
  {
   "cell_type": "code",
   "id": "23767149",
   "metadata": {
    "execution": {
     "iopub.execute_input": "2024-07-04T01:41:13.403985Z",
     "iopub.status.busy": "2024-07-04T01:41:13.403634Z",
     "iopub.status.idle": "2024-07-04T01:41:13.414217Z",
     "shell.execute_reply": "2024-07-04T01:41:13.413055Z"
    },
    "papermill": {
     "duration": 0.020999,
     "end_time": "2024-07-04T01:41:13.416465",
     "exception": false,
     "start_time": "2024-07-04T01:41:13.395466",
     "status": "completed"
    },
    "tags": []
   },
   "source": [
    "X_cat = category_encoder.fit_transform(df_test[cat_cols])\n",
    "for c, cat_col in enumerate(cat_cols):\n",
    "    df_test[cat_col] = X_cat[:, c]"
   ],
   "outputs": [],
   "execution_count": null
  },
  {
   "cell_type": "code",
   "id": "c2b37b32",
   "metadata": {
    "execution": {
     "iopub.execute_input": "2024-07-04T01:41:13.432789Z",
     "iopub.status.busy": "2024-07-04T01:41:13.431743Z",
     "iopub.status.idle": "2024-07-04T01:41:13.457542Z",
     "shell.execute_reply": "2024-07-04T01:41:13.456538Z"
    },
    "papermill": {
     "duration": 0.036832,
     "end_time": "2024-07-04T01:41:13.460451",
     "exception": false,
     "start_time": "2024-07-04T01:41:13.423619",
     "status": "completed"
    },
    "tags": []
   },
   "source": [
    "preds = np.mean([model.predict(df_test[train_cols]) for model in models], 0)"
   ],
   "outputs": [],
   "execution_count": null
  },
  {
   "cell_type": "code",
   "id": "79fa3088",
   "metadata": {
    "execution": {
     "iopub.execute_input": "2024-07-04T01:41:13.476396Z",
     "iopub.status.busy": "2024-07-04T01:41:13.475943Z",
     "iopub.status.idle": "2024-07-04T01:41:13.510801Z",
     "shell.execute_reply": "2024-07-04T01:41:13.509807Z"
    },
    "papermill": {
     "duration": 0.045242,
     "end_time": "2024-07-04T01:41:13.512944",
     "exception": false,
     "start_time": "2024-07-04T01:41:13.467702",
     "status": "completed"
    },
    "tags": []
   },
   "source": [
    "df_sub = pd.read_csv(f\"{base_path}/sample_submission.csv\")\n",
    "df_sub[\"target\"] = preds\n",
    "df_sub"
   ],
   "outputs": [],
   "execution_count": null
  },
  {
   "cell_type": "code",
   "id": "78083165",
   "metadata": {
    "execution": {
     "iopub.execute_input": "2024-07-04T01:41:13.529134Z",
     "iopub.status.busy": "2024-07-04T01:41:13.528725Z",
     "iopub.status.idle": "2024-07-04T01:41:13.536566Z",
     "shell.execute_reply": "2024-07-04T01:41:13.535426Z"
    },
    "papermill": {
     "duration": 0.018857,
     "end_time": "2024-07-04T01:41:13.539166",
     "exception": false,
     "start_time": "2024-07-04T01:41:13.520309",
     "status": "completed"
    },
    "tags": []
   },
   "source": [
    "df_sub.to_csv(\"submission.csv\", index=False)"
   ],
   "outputs": [],
   "execution_count": null
  },
  {
   "cell_type": "code",
   "id": "bba4f577",
   "metadata": {},
   "source": [
    "# 重要度が低い特徴量を10個取得. コピペして使えるようにリスト形式で表示する\n",
    "for row in df_imp[-10:].itertuples():\n",
    "    print(f'\"{row.feature}\",')\n"
   ],
   "outputs": [],
   "execution_count": null
  },
  {
   "metadata": {},
   "cell_type": "code",
   "source": "",
   "id": "17e8fcb1136372e9",
   "outputs": [],
   "execution_count": null
  }
 ],
 "metadata": {
  "kaggle": {
   "accelerator": "none",
   "dataSources": [
    {
     "databundleVersionId": 8940774,
     "sourceId": 63056,
     "sourceType": "competition"
    }
   ],
   "dockerImageVersionId": 30732,
   "isGpuEnabled": false,
   "isInternetEnabled": false,
   "language": "python",
   "sourceType": "notebook"
  },
  "kernelspec": {
   "display_name": "Python 3",
   "language": "python",
   "name": "python3"
  },
  "language_info": {
   "codemirror_mode": {
    "name": "ipython",
    "version": 3
   },
   "file_extension": ".py",
   "mimetype": "text/x-python",
   "name": "python",
   "nbconvert_exporter": "python",
   "pygments_lexer": "ipython3",
   "version": "3.10.12"
  },
  "papermill": {
   "default_parameters": {},
   "duration": 472.392403,
   "end_time": "2024-07-04T01:41:14.282170",
   "environment_variables": {},
   "exception": null,
   "input_path": "__notebook__.ipynb",
   "output_path": "__notebook__.ipynb",
   "parameters": {},
   "start_time": "2024-07-04T01:33:21.889767",
   "version": "2.5.0"
  }
 },
 "nbformat": 4,
 "nbformat_minor": 5
}
